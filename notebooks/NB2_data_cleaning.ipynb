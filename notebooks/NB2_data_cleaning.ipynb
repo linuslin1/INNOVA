{
 "metadata": {
  "name": ""
 },
 "nbformat": 3,
 "nbformat_minor": 0,
 "worksheets": [
  {
   "cells": [
    {
     "cell_type": "markdown",
     "metadata": {},
     "source": [
      "##Team members responsible for this notebook:\n",
      "\n",
      "List the team members contributing to this notebook, along with their responsabilities:\n",
      "\n",
      "* team member 1 **Hui, Man Kin (Ken)**: **Transform the Data to Time Series for Daily and Weekly Data, and Gathering the Data by Category**\n"
     ]
    },
    {
     "cell_type": "heading",
     "level": 1,
     "metadata": {},
     "source": [
      "R Magic"
     ]
    },
    {
     "cell_type": "code",
     "collapsed": false,
     "input": [
      "# Loading R Magic\n",
      "%load_ext rmagic"
     ],
     "language": "python",
     "metadata": {},
     "outputs": [],
     "prompt_number": 2
    },
    {
     "cell_type": "heading",
     "level": 1,
     "metadata": {},
     "source": [
      "Import Datetime & Pandas"
     ]
    },
    {
     "cell_type": "code",
     "collapsed": false,
     "input": [
      "# Import Datetime & Pandas\n",
      "import datetime\n",
      "import pandas as pd\n",
      "import pandas.io.data\n",
      "from pandas import Series, DataFrame"
     ],
     "language": "python",
     "metadata": {},
     "outputs": [],
     "prompt_number": 3
    },
    {
     "cell_type": "heading",
     "level": 1,
     "metadata": {},
     "source": [
      "Cleaning LIBOR Data"
     ]
    },
    {
     "cell_type": "heading",
     "level": 2,
     "metadata": {},
     "source": [
      "Cleaning"
     ]
    },
    {
     "cell_type": "code",
     "collapsed": false,
     "input": [
      "%%R\n",
      "# Loading Libor CSV\n",
      "libor = read.csv(\"../data/raw/libor.csv\", skip=5, stringsAsFactors=FALSE)\n",
      "colnames(libor) = c(\"Time\", \"1 Month Rate\")\n",
      "\n",
      "# Subset Libor\n",
      "libor = libor[which(libor$Time == \"2008-03-31\"):which(libor$Time == \"2014-04-30\"),]\n",
      "\n",
      "# Removing Missing Data\n",
      "remove_list = which(libor$\"1 Month Rate\" == \"ND\")*-1\n",
      "libor = libor[remove_list,]\n",
      "\n",
      "# Saving to CSV\n",
      "write.csv(file='../data/cleaned/libor.csv', x=libor, row.names=FALSE)"
     ],
     "language": "python",
     "metadata": {},
     "outputs": [],
     "prompt_number": 4
    },
    {
     "cell_type": "markdown",
     "metadata": {},
     "source": [
      "Here, we load Libor rate, and choose Libor rate from 2008/3/31 to 2014/4/30. Then, we remove missing data from the libor rate's raw data and then save them to csv file. Final, we display the libor rate."
     ]
    },
    {
     "cell_type": "heading",
     "level": 2,
     "metadata": {},
     "source": [
      "Displaying"
     ]
    },
    {
     "cell_type": "code",
     "collapsed": false,
     "input": [
      "!head ../data/cleaned/libor.csv"
     ],
     "language": "python",
     "metadata": {},
     "outputs": [
      {
       "output_type": "stream",
       "stream": "stdout",
       "text": [
        "\"Time\",\"1 Month Rate\"\r\n",
        "\"2008-03-31\",\"3.00\"\r\n",
        "\"2008-04-01\",\"3.00\"\r\n",
        "\"2008-04-02\",\"3.00\"\r\n",
        "\"2008-04-03\",\"3.00\"\r\n",
        "\"2008-04-04\",\"3.00\"\r\n",
        "\"2008-04-07\",\"2.95\"\r\n",
        "\"2008-04-08\",\"3.00\"\r\n",
        "\"2008-04-09\",\"3.00\"\r\n",
        "\"2008-04-10\",\"3.00\"\r\n"
       ]
      }
     ],
     "prompt_number": 5
    },
    {
     "cell_type": "heading",
     "level": 1,
     "metadata": {},
     "source": [
      "Cleaning Yahoo Finance Data"
     ]
    },
    {
     "cell_type": "code",
     "collapsed": false,
     "input": [
      "# Mapping Dictionary\n",
      "stocks_d = [{'name': 'Apple', 'symbol': 'aapl'},\n",
      "          {'name': 'Google', 'symbol': 'googl'},\n",
      "          {'name': 'Amazon', 'symbol': 'amzn'},\n",
      "          {'name': 'Microsoft', 'symbol': 'msft'},\n",
      "          {'name': 'HP', 'symbol': 'hp'},\n",
      "          {'name': 'SP500', 'symbol': '^GSPC'},\n",
      "          {'name': 'Target', 'symbol': 'tgt'},\n",
      "          {'name': 'Costco', 'symbol': 'cost'},\n",
      "          {'name': 'Walmart', 'symbol': 'wmt'},\n",
      "          {'name': 'Walgreen', 'symbol': 'wag'},\n",
      "          {'name': 'Safeway', 'symbol': 'swy'},\n",
      "          {'name': 'Citibank', 'symbol': 'ctbk'},\n",
      "          {'name': 'Wells Fargo', 'symbol': 'wfc'},\n",
      "          {'name': 'Bank of America', 'symbol': 'bac'},\n",
      "          {'name': 'JP Morgan', 'symbol': 'jpm'},\n",
      "          {'name': 'Bank of Ozarks', 'symbol': 'ozrk'}]"
     ],
     "language": "python",
     "metadata": {},
     "outputs": [],
     "prompt_number": 6
    },
    {
     "cell_type": "markdown",
     "metadata": {},
     "source": [
      "This is a mapping dictionary. We can use it to store the finance code for each stock."
     ]
    },
    {
     "cell_type": "heading",
     "level": 2,
     "metadata": {},
     "source": [
      "Making Daily Data"
     ]
    },
    {
     "cell_type": "code",
     "collapsed": false,
     "input": [
      "# Loading Data to Panda\n",
      "for stock in stocks_d:\n",
      "    fname = '../data/raw/'+stock['symbol']+'.csv' # Path\n",
      "    stock['pd'] = pd.read_csv(fname, index_col='Date') # Loading Data\n",
      "    stock['pd']['Adj Close'].to_csv('../data/cleaned/d'+stock['symbol']+'.csv', index_label='Date', header='Adj Close') # Saving Daily Data to CSV\n",
      "\n",
      "    print('Daily Data - '+stock['name']) # Displaying Daily Data\n",
      "    dfname = '../data/cleaned/d'+stock['symbol']+'.csv' # Path for Daily Data\n",
      "    !head $dfname\n",
      "    print('')"
     ],
     "language": "python",
     "metadata": {},
     "outputs": [
      {
       "output_type": "stream",
       "stream": "stdout",
       "text": [
        "Daily Data - Apple\n",
        "Date,Adj Close\r\n",
        "2008-03-31,137.93\r\n",
        "2008-04-01,143.72\r\n",
        "2008-04-02,141.76\r\n",
        "2008-04-03,145.72\r\n",
        "2008-04-04,147.13\r\n",
        "2008-04-07,149.83\r\n",
        "2008-04-08,146.9\r\n",
        "2008-04-09,145.56\r\n",
        "2008-04-10,148.55\r\n"
       ]
      },
      {
       "output_type": "stream",
       "stream": "stdout",
       "text": [
        "\n",
        "Daily Data - Google\n",
        "Date,Adj Close\r\n",
        "2008-03-31,220.46\r\n",
        "2008-04-01,233.09\r\n",
        "2008-04-02,233.08\r\n",
        "2008-04-03,227.79\r\n",
        "2008-04-04,235.78\r\n",
        "2008-04-07,238.65\r\n",
        "2008-04-08,234.14\r\n",
        "2008-04-09,232.33\r\n",
        "2008-04-10,234.77\r\n"
       ]
      },
      {
       "output_type": "stream",
       "stream": "stdout",
       "text": [
        "\n",
        "Daily Data - Amazon\n",
        "Date,Adj Close\r\n",
        "2008-03-31,71.3\r\n",
        "2008-04-01,76.7\r\n",
        "2008-04-02,77.37\r\n",
        "2008-04-03,74.94\r\n",
        "2008-04-04,76.87\r\n",
        "2008-04-07,76.9\r\n",
        "2008-04-08,77.3\r\n",
        "2008-04-09,74.39\r\n",
        "2008-04-10,74.83\r\n"
       ]
      },
      {
       "output_type": "stream",
       "stream": "stdout",
       "text": [
        "\n",
        "Daily Data - Microsoft\n",
        "Date,Adj Close\r\n",
        "2008-03-31,24.44\r\n",
        "2008-04-01,25.4\r\n",
        "2008-04-02,25.11\r\n",
        "2008-04-03,24.97\r\n",
        "2008-04-04,25.11\r\n",
        "2008-04-07,25.11\r\n",
        "2008-04-08,24.76\r\n",
        "2008-04-09,24.88\r\n",
        "2008-04-10,25.07\r\n"
       ]
      },
      {
       "output_type": "stream",
       "stream": "stdout",
       "text": [
        "\n",
        "Daily Data - HP\n",
        "Date,Adj Close\r\n",
        "2008-03-31,44.51\r\n",
        "2008-04-01,45.07\r\n",
        "2008-04-02,46.06\r\n",
        "2008-04-03,46.51\r\n",
        "2008-04-04,46.93\r\n",
        "2008-04-07,47.42\r\n",
        "2008-04-08,48.24\r\n",
        "2008-04-09,48.79\r\n",
        "2008-04-10,49.48\r\n"
       ]
      },
      {
       "output_type": "stream",
       "stream": "stdout",
       "text": [
        "\n",
        "Daily Data - SP500\n",
        "Date,Adj Close\r\n",
        "2008-03-31,1322.7\r\n",
        "2008-04-01,1370.18\r\n",
        "2008-04-02,1367.53\r\n",
        "2008-04-03,1369.31\r\n",
        "2008-04-04,1370.4\r\n",
        "2008-04-07,1372.54\r\n",
        "2008-04-08,1365.54\r\n",
        "2008-04-09,1354.49\r\n",
        "2008-04-10,1360.55\r\n"
       ]
      },
      {
       "output_type": "stream",
       "stream": "stdout",
       "text": [
        "\n",
        "Daily Data - Target\n",
        "Date,Adj Close\r\n",
        "2008-03-31,44.99\r\n",
        "2008-04-01,47.29\r\n",
        "2008-04-02,47.45\r\n",
        "2008-04-03,47.28\r\n",
        "2008-04-04,46.76\r\n",
        "2008-04-07,46.85\r\n",
        "2008-04-08,47.28\r\n",
        "2008-04-09,46.47\r\n",
        "2008-04-10,47.2\r\n"
       ]
      },
      {
       "output_type": "stream",
       "stream": "stdout",
       "text": [
        "\n",
        "Daily Data - Costco\n",
        "Date,Adj Close\r\n",
        "2008-03-31,56.45\r\n",
        "2008-04-01,57.77\r\n",
        "2008-04-02,57.57\r\n",
        "2008-04-03,58.1\r\n",
        "2008-04-04,57.74\r\n",
        "2008-04-07,57.61\r\n",
        "2008-04-08,58.16\r\n",
        "2008-04-09,57.37\r\n",
        "2008-04-10,57.8\r\n"
       ]
      },
      {
       "output_type": "stream",
       "stream": "stdout",
       "text": [
        "\n",
        "Daily Data - Walmart\n",
        "Date,Adj Close\r\n",
        "2008-03-31,45.85\r\n",
        "2008-04-01,47.07\r\n",
        "2008-04-02,47.4\r\n",
        "2008-04-03,47.81\r\n",
        "2008-04-04,47.35\r\n",
        "2008-04-07,47.2\r\n",
        "2008-04-08,47.39\r\n",
        "2008-04-09,47.12\r\n",
        "2008-04-10,47.57\r\n"
       ]
      },
      {
       "output_type": "stream",
       "stream": "stdout",
       "text": [
        "\n",
        "Daily Data - Walgreen\n",
        "Date,Adj Close\r\n",
        "2008-03-31,33.63\r\n",
        "2008-04-01,34.37\r\n",
        "2008-04-02,33.67\r\n",
        "2008-04-03,33.72\r\n",
        "2008-04-04,33.46\r\n",
        "2008-04-07,33.59\r\n",
        "2008-04-08,33.22\r\n",
        "2008-04-09,32.59\r\n",
        "2008-04-10,32.33\r\n"
       ]
      },
      {
       "output_type": "stream",
       "stream": "stdout",
       "text": [
        "\n",
        "Daily Data - Safeway\n",
        "Date,Adj Close\r\n",
        "2008-03-31,22.66\r\n",
        "2008-04-01,23.07\r\n",
        "2008-04-02,22.68\r\n",
        "2008-04-03,22.5\r\n",
        "2008-04-04,22.33\r\n",
        "2008-04-07,22.23\r\n",
        "2008-04-08,22.15\r\n",
        "2008-04-09,22.11\r\n",
        "2008-04-10,22.31\r\n"
       ]
      },
      {
       "output_type": "stream",
       "stream": "stdout",
       "text": [
        "\n",
        "Daily Data - Citibank\n",
        "Date,Adj Close\r\n",
        "2008-03-31,21.53\r\n",
        "2008-04-01,23.08\r\n",
        "2008-04-02,23.0\r\n",
        "2008-04-03,21.69\r\n",
        "2008-04-04,20.95\r\n",
        "2008-04-07,20.94\r\n",
        "2008-04-08,20.65\r\n",
        "2008-04-09,19.88\r\n",
        "2008-04-10,20.77\r\n"
       ]
      },
      {
       "output_type": "stream",
       "stream": "stdout",
       "text": [
        "\n",
        "Daily Data - Wells Fargo\n",
        "Date,Adj Close\r\n",
        "2008-03-31,25.27\r\n",
        "2008-04-01,27.35\r\n",
        "2008-04-02,26.52\r\n",
        "2008-04-03,26.74\r\n",
        "2008-04-04,26.86\r\n",
        "2008-04-07,26.74\r\n",
        "2008-04-08,25.99\r\n",
        "2008-04-09,25.58\r\n",
        "2008-04-10,24.77\r\n"
       ]
      },
      {
       "output_type": "stream",
       "stream": "stdout",
       "text": [
        "\n",
        "Daily Data - Bank of America\n",
        "Date,Adj Close\r\n",
        "2008-03-31,34.9\r\n",
        "2008-04-01,37.61\r\n",
        "2008-04-02,37.1\r\n",
        "2008-04-03,37.16\r\n",
        "2008-04-04,36.28\r\n",
        "2008-04-07,36.36\r\n",
        "2008-04-08,35.33\r\n",
        "2008-04-09,34.92\r\n",
        "2008-04-10,34.7\r\n"
       ]
      },
      {
       "output_type": "stream",
       "stream": "stdout",
       "text": [
        "\n",
        "Daily Data - JP Morgan\n",
        "Date,Adj Close\r\n",
        "2008-03-31,37.35\r\n",
        "2008-04-01,40.87\r\n",
        "2008-04-02,40.54\r\n",
        "2008-04-03,40.57\r\n",
        "2008-04-04,39.95\r\n",
        "2008-04-07,39.92\r\n",
        "2008-04-08,39.33\r\n",
        "2008-04-09,38.83\r\n",
        "2008-04-10,38.45\r\n"
       ]
      },
      {
       "output_type": "stream",
       "stream": "stdout",
       "text": [
        "\n",
        "Daily Data - Bank of Ozarks\n",
        "Date,Adj Close\r\n",
        "2008-03-31,10.69\r\n",
        "2008-04-01,10.85\r\n",
        "2008-04-02,10.81\r\n",
        "2008-04-03,10.69\r\n",
        "2008-04-04,10.49\r\n",
        "2008-04-07,10.58\r\n",
        "2008-04-08,10.83\r\n",
        "2008-04-09,10.62\r\n",
        "2008-04-10,10.7\r\n"
       ]
      },
      {
       "output_type": "stream",
       "stream": "stdout",
       "text": [
        "\n"
       ]
      }
     ],
     "prompt_number": 7
    },
    {
     "cell_type": "markdown",
     "metadata": {},
     "source": [
      "Here, we only choose the close price for every stock because we will compare each stock's profermance only by close price. Then we display every stock's daily close price since 2008/3/31."
     ]
    },
    {
     "cell_type": "heading",
     "level": 2,
     "metadata": {},
     "source": [
      "Making Weekly Data"
     ]
    },
    {
     "cell_type": "code",
     "collapsed": false,
     "input": [
      "%%R\n",
      "# Dictionary-like DataFrame\n",
      "stocks = data.frame(c(\"Apple\", \"Google\", \"Amazon\", \"Microsoft\", \"HP\", \"SP500\", \n",
      "                     \"Target\", \"Costco\", \"Walmart\", \"Walgreen\", \"Safeway\", \"SP500\",\n",
      "                     \"Citibank\", \"Wells Fargo\", \"Bank of America\", \"JP Morgan\", \"Bank of Ozarks\", \"SP500\"),\n",
      "                    c(\"aapl\", \"googl\", \"amzn\", \"msft\", \"hp\", \"^GSPC\",\n",
      "                     \"tgt\", \"cost\", \"wmt\", \"wag\", \"swy\", \"^GSPC\",\n",
      "                     \"ctbk\", \"wfc\", \"bac\", \"jpm\", \"ozrk\", \"^GSPC\"))\n",
      "colnames(stocks) = c(\"name\", \"symbol\")\n",
      "print(stocks)"
     ],
     "language": "python",
     "metadata": {},
     "outputs": [
      {
       "metadata": {},
       "output_type": "display_data",
       "text": [
        "              name symbol\n",
        "1            Apple   aapl\n",
        "2           Google  googl\n",
        "3           Amazon   amzn\n",
        "4        Microsoft   msft\n",
        "5               HP     hp\n",
        "6            SP500  ^GSPC\n",
        "7           Target    tgt\n",
        "8           Costco   cost\n",
        "9          Walmart    wmt\n",
        "10        Walgreen    wag\n",
        "11         Safeway    swy\n",
        "12           SP500  ^GSPC\n",
        "13        Citibank   ctbk\n",
        "14     Wells Fargo    wfc\n",
        "15 Bank of America    bac\n",
        "16       JP Morgan    jpm\n",
        "17  Bank of Ozarks   ozrk\n",
        "18           SP500  ^GSPC\n"
       ]
      }
     ],
     "prompt_number": 8
    },
    {
     "cell_type": "markdown",
     "metadata": {},
     "source": [
      "Here, we classify 15 stocks we choose as three categories, which are IT industry, retail industry, and bank industry."
     ]
    },
    {
     "cell_type": "code",
     "collapsed": false,
     "input": [
      "%%R\n",
      "library(zoo) # Loading \"zoo\" Library\n",
      "library(xts) # Loading \"xts\" Library\n",
      "\n",
      "# Reading Daily Data\n",
      "stocks$read.code = sapply(stocks$symbol, function(x) paste0(\"read.zoo('../data/cleaned/d\",x, \".csv', header=TRUE, sep=',', format = '%Y-%m-%d')\"))\n",
      "\n",
      "# Calculating Weekly Average through xts Library\n",
      "myweek = sapply(stocks$read.code, function(x) apply.weekly(eval(parse(text = x)),mean))\n",
      "\n",
      "# Making List of DataFrame\n",
      "a = list()\n",
      "for (i in 1:ncol(myweek)){\n",
      "    a[[i]] = data.frame(\"Week\" = rownames(myweek), \"Adj Close\" = myweek[,i])}\n",
      "\n",
      "# Saving DataFrame to CSV\n",
      "for (stock in stocks$symbol){\n",
      "    fname = paste0(\"write.csv(file='../data/cleaned/w\",stock,\".csv', x=\",a, \",row.names=FALSE)\")\n",
      "    eval(parse(text=fname))}"
     ],
     "language": "python",
     "metadata": {},
     "outputs": [
      {
       "metadata": {},
       "output_type": "display_data",
       "text": [
        "\n",
        "Attaching package: \u2018zoo\u2019\n",
        "\n",
        "The following objects are masked from \u2018package:base\u2019:\n",
        "\n",
        "    as.Date, as.Date.numeric\n",
        "\n"
       ]
      }
     ],
     "prompt_number": 9
    },
    {
     "cell_type": "code",
     "collapsed": false,
     "input": [
      "# Displaying Weekly Data\n",
      "for stock in stocks_d:\n",
      "    print('Weekly Data - '+stock['name']) # Displaying Daily Data\n",
      "    wfname = '../data/cleaned/w'+stock['symbol']+'.csv' # Path for Daily Data\n",
      "    !head $wfname\n",
      "    print('')"
     ],
     "language": "python",
     "metadata": {},
     "outputs": [
      {
       "output_type": "stream",
       "stream": "stdout",
       "text": [
        "Weekly Data - Apple\n",
        "\"Week\",\"Adj.Close\"\r\n",
        "1,1360.024\r\n",
        "2,1357.19\r\n",
        "3,1356.67\r\n",
        "4,1386.14\r\n",
        "5,1399.228\r\n",
        "6,1400.856\r\n",
        "7,1412.84\r\n",
        "8,1400.204\r\n",
        "9,1393.7075\r\n"
       ]
      },
      {
       "output_type": "stream",
       "stream": "stdout",
       "text": [
        "\n",
        "Weekly Data - Google\n",
        "\"Week\",\"Adj.Close\"\r\n",
        "1,1360.024\r\n",
        "2,1357.19\r\n",
        "3,1356.67\r\n",
        "4,1386.14\r\n",
        "5,1399.228\r\n",
        "6,1400.856\r\n",
        "7,1412.84\r\n",
        "8,1400.204\r\n",
        "9,1393.7075\r\n"
       ]
      },
      {
       "output_type": "stream",
       "stream": "stdout",
       "text": [
        "\n",
        "Weekly Data - Amazon\n",
        "\"Week\",\"Adj.Close\"\r\n",
        "1,1360.024\r\n",
        "2,1357.19\r\n",
        "3,1356.67\r\n",
        "4,1386.14\r\n",
        "5,1399.228\r\n",
        "6,1400.856\r\n",
        "7,1412.84\r\n",
        "8,1400.204\r\n",
        "9,1393.7075\r\n"
       ]
      },
      {
       "output_type": "stream",
       "stream": "stdout",
       "text": [
        "\n",
        "Weekly Data - Microsoft\n",
        "\"Week\",\"Adj.Close\"\r\n",
        "1,1360.024\r\n",
        "2,1357.19\r\n",
        "3,1356.67\r\n",
        "4,1386.14\r\n",
        "5,1399.228\r\n",
        "6,1400.856\r\n",
        "7,1412.84\r\n",
        "8,1400.204\r\n",
        "9,1393.7075\r\n"
       ]
      },
      {
       "output_type": "stream",
       "stream": "stdout",
       "text": [
        "\n",
        "Weekly Data - HP\n",
        "\"Week\",\"Adj.Close\"\r\n",
        "1,1360.024\r\n",
        "2,1357.19\r\n",
        "3,1356.67\r\n",
        "4,1386.14\r\n",
        "5,1399.228\r\n",
        "6,1400.856\r\n",
        "7,1412.84\r\n",
        "8,1400.204\r\n",
        "9,1393.7075\r\n"
       ]
      },
      {
       "output_type": "stream",
       "stream": "stdout",
       "text": [
        "\n",
        "Weekly Data - SP500\n",
        "\"Week\",\"Adj.Close\"\r\n",
        "1,1360.024\r\n",
        "2,1357.19\r\n",
        "3,1356.67\r\n",
        "4,1386.14\r\n",
        "5,1399.228\r\n",
        "6,1400.856\r\n",
        "7,1412.84\r\n",
        "8,1400.204\r\n",
        "9,1393.7075\r\n"
       ]
      },
      {
       "output_type": "stream",
       "stream": "stdout",
       "text": [
        "\n",
        "Weekly Data - Target\n",
        "\"Week\",\"Adj.Close\"\r\n",
        "1,1360.024\r\n",
        "2,1357.19\r\n",
        "3,1356.67\r\n",
        "4,1386.14\r\n",
        "5,1399.228\r\n",
        "6,1400.856\r\n",
        "7,1412.84\r\n",
        "8,1400.204\r\n",
        "9,1393.7075\r\n"
       ]
      },
      {
       "output_type": "stream",
       "stream": "stdout",
       "text": [
        "\n",
        "Weekly Data - Costco\n",
        "\"Week\",\"Adj.Close\"\r\n",
        "1,1360.024\r\n",
        "2,1357.19\r\n",
        "3,1356.67\r\n",
        "4,1386.14\r\n",
        "5,1399.228\r\n",
        "6,1400.856\r\n",
        "7,1412.84\r\n",
        "8,1400.204\r\n",
        "9,1393.7075\r\n"
       ]
      },
      {
       "output_type": "stream",
       "stream": "stdout",
       "text": [
        "\n",
        "Weekly Data - Walmart\n",
        "\"Week\",\"Adj.Close\"\r\n",
        "1,1360.024\r\n",
        "2,1357.19\r\n",
        "3,1356.67\r\n",
        "4,1386.14\r\n",
        "5,1399.228\r\n",
        "6,1400.856\r\n",
        "7,1412.84\r\n",
        "8,1400.204\r\n",
        "9,1393.7075\r\n"
       ]
      },
      {
       "output_type": "stream",
       "stream": "stdout",
       "text": [
        "\n",
        "Weekly Data - Walgreen\n",
        "\"Week\",\"Adj.Close\"\r\n",
        "1,1360.024\r\n",
        "2,1357.19\r\n",
        "3,1356.67\r\n",
        "4,1386.14\r\n",
        "5,1399.228\r\n",
        "6,1400.856\r\n",
        "7,1412.84\r\n",
        "8,1400.204\r\n",
        "9,1393.7075\r\n"
       ]
      },
      {
       "output_type": "stream",
       "stream": "stdout",
       "text": [
        "\n",
        "Weekly Data - Safeway\n",
        "\"Week\",\"Adj.Close\"\r\n",
        "1,1360.024\r\n",
        "2,1357.19\r\n",
        "3,1356.67\r\n",
        "4,1386.14\r\n",
        "5,1399.228\r\n",
        "6,1400.856\r\n",
        "7,1412.84\r\n",
        "8,1400.204\r\n",
        "9,1393.7075\r\n"
       ]
      },
      {
       "output_type": "stream",
       "stream": "stdout",
       "text": [
        "\n",
        "Weekly Data - Citibank\n",
        "\"Week\",\"Adj.Close\"\r\n",
        "1,1360.024\r\n",
        "2,1357.19\r\n",
        "3,1356.67\r\n",
        "4,1386.14\r\n",
        "5,1399.228\r\n",
        "6,1400.856\r\n",
        "7,1412.84\r\n",
        "8,1400.204\r\n",
        "9,1393.7075\r\n"
       ]
      },
      {
       "output_type": "stream",
       "stream": "stdout",
       "text": [
        "\n",
        "Weekly Data - Wells Fargo\n",
        "\"Week\",\"Adj.Close\"\r\n",
        "1,1360.024\r\n",
        "2,1357.19\r\n",
        "3,1356.67\r\n",
        "4,1386.14\r\n",
        "5,1399.228\r\n",
        "6,1400.856\r\n",
        "7,1412.84\r\n",
        "8,1400.204\r\n",
        "9,1393.7075\r\n"
       ]
      },
      {
       "output_type": "stream",
       "stream": "stdout",
       "text": [
        "\n",
        "Weekly Data - Bank of America\n",
        "\"Week\",\"Adj.Close\"\r\n",
        "1,1360.024\r\n",
        "2,1357.19\r\n",
        "3,1356.67\r\n",
        "4,1386.14\r\n",
        "5,1399.228\r\n",
        "6,1400.856\r\n",
        "7,1412.84\r\n",
        "8,1400.204\r\n",
        "9,1393.7075\r\n"
       ]
      },
      {
       "output_type": "stream",
       "stream": "stdout",
       "text": [
        "\n",
        "Weekly Data - JP Morgan\n",
        "\"Week\",\"Adj.Close\"\r\n",
        "1,1360.024\r\n",
        "2,1357.19\r\n",
        "3,1356.67\r\n",
        "4,1386.14\r\n",
        "5,1399.228\r\n",
        "6,1400.856\r\n",
        "7,1412.84\r\n",
        "8,1400.204\r\n",
        "9,1393.7075\r\n"
       ]
      },
      {
       "output_type": "stream",
       "stream": "stdout",
       "text": [
        "\n",
        "Weekly Data - Bank of Ozarks\n",
        "\"Week\",\"Adj.Close\"\r\n",
        "1,1360.024\r\n",
        "2,1357.19\r\n",
        "3,1356.67\r\n",
        "4,1386.14\r\n",
        "5,1399.228\r\n",
        "6,1400.856\r\n",
        "7,1412.84\r\n",
        "8,1400.204\r\n",
        "9,1393.7075\r\n"
       ]
      },
      {
       "output_type": "stream",
       "stream": "stdout",
       "text": [
        "\n"
       ]
      }
     ],
     "prompt_number": 10
    },
    {
     "cell_type": "markdown",
     "metadata": {},
     "source": [
      "Here, we make weekly data for every stock"
     ]
    },
    {
     "cell_type": "heading",
     "level": 2,
     "metadata": {},
     "source": [
      "Making Category Data"
     ]
    },
    {
     "cell_type": "code",
     "collapsed": false,
     "input": [
      "%%R\n",
      "# Dictionary-like DataFrame\n",
      "stocks_cat = data.frame(c(\"Apple\", \"Google\", \"Amazon\", \"Microsoft\", \"HP\", \"SP500\",\n",
      "                         \"Target\", \"Costco\", \"Walmart\", \"Walgreen\", \"Safeway\", \"SP500\",\n",
      "                         \"Citibank\", \"Wells Fargo\", \"Bank of America\", \"JP Morgan\", \"Bank of Ozarks\", \"SP500\"),\n",
      "                    c(\"aapl\", \"googl\", \"amzn\", \"msft\", \"hp\", \"^GSPC\",\n",
      "                     \"tgt\", \"cost\", \"wmt\", \"wag\", \"swy\", \"^GSPC\",\n",
      "                      \"ctbk\", \"wfc\", \"bac\", \"jpm\", \"ozrk\", \"^GSPC\"),\n",
      "                    c(\"IT\", \"IT\", \"IT\", \"IT\", \"IT\", \"IT\",\n",
      "                     \"Retail\", \"Retail\", \"Retail\", \"Retail\", \"Retail\", \"Retail\",\n",
      "                     \"Bank\", \"Bank\", \"Bank\", \"Bank\", \"Bank\", \"Bank\"))\n",
      "colnames(stocks_cat) = c(\"name\", \"symbol\", \"category\")\n",
      "print(stocks_cat)"
     ],
     "language": "python",
     "metadata": {},
     "outputs": [
      {
       "metadata": {},
       "output_type": "display_data",
       "text": [
        "              name symbol category\n",
        "1            Apple   aapl       IT\n",
        "2           Google  googl       IT\n",
        "3           Amazon   amzn       IT\n",
        "4        Microsoft   msft       IT\n",
        "5               HP     hp       IT\n",
        "6            SP500  ^GSPC       IT\n",
        "7           Target    tgt   Retail\n",
        "8           Costco   cost   Retail\n",
        "9          Walmart    wmt   Retail\n",
        "10        Walgreen    wag   Retail\n",
        "11         Safeway    swy   Retail\n",
        "12           SP500  ^GSPC   Retail\n",
        "13        Citibank   ctbk     Bank\n",
        "14     Wells Fargo    wfc     Bank\n",
        "15 Bank of America    bac     Bank\n",
        "16       JP Morgan    jpm     Bank\n",
        "17  Bank of Ozarks   ozrk     Bank\n",
        "18           SP500  ^GSPC     Bank\n"
       ]
      }
     ],
     "prompt_number": 14
    },
    {
     "cell_type": "markdown",
     "metadata": {},
     "source": [
      "This is a dictionary-like Data Frame. We can use it to store the industry and code for each stock."
     ]
    },
    {
     "cell_type": "code",
     "collapsed": false,
     "input": [
      "%%R\n",
      "# Reading Daily Data Code\n",
      "stocks$read.code = sapply(stocks$symbol, function(x) paste0(\"read.csv('../data/cleaned/d\",x, \".csv', header=TRUE, sep=',')\"))\n",
      "\n",
      "# Reading Daily Data\n",
      "readstocks = lapply(stocks$read.code, function(x) eval(parse(text = x)))"
     ],
     "language": "python",
     "metadata": {},
     "outputs": [],
     "prompt_number": 16
    },
    {
     "cell_type": "code",
     "collapsed": false,
     "input": [
      "%%R\n",
      "# Function\n",
      "adjclosecombine = function(a, b, c, d, e, f){\n",
      "    data.frame(a$Date, a$\"Adj.Close\", b$\"Adj.Close\", c$\"Adj.Close\", d$\"Adj.Close\", e$\"Adj.Close\", f$\"Adj.Close\")\n",
      "}"
     ],
     "language": "python",
     "metadata": {},
     "outputs": [],
     "prompt_number": 17
    },
    {
     "cell_type": "code",
     "collapsed": false,
     "input": [
      "%%R\n",
      "# Making IT Stock Data\n",
      "IT = adjclosecombine(readstocks[[1]], readstocks[[2]], readstocks[[3]], readstocks[[4]], readstocks[[5]], readstocks[[6]])\n",
      "colnames(IT) = c(\"Date\", \"Apple\", \"Google\", \"Amazon\", \"Microsoft\", \"HP\", \"S&P 500\")\n",
      "write.csv(file='../data/cleaned/IT.csv', x=IT, row.names=FALSE)\n",
      "\n",
      "# Making Retail Category\n",
      "retail = adjclosecombine(readstocks[[7]], readstocks[[8]], readstocks[[9]], readstocks[[10]], readstocks[[11]], readstocks[[12]])\n",
      "colnames(retail) = c(\"Date\", \"Target\", \"Costco\", \"Walmart\", \"Walgreen\", \"Safeway\", \"SP500\")\n",
      "write.csv(file='../data/cleaned/retail.csv', x=retail, row.names=FALSE)\n",
      "\n",
      "# Making Bank Category\n",
      "bank = adjclosecombine(readstocks[[13]], readstocks[[14]], readstocks[[15]], readstocks[[16]], readstocks[[17]], readstocks[[18]])\n",
      "colnames(bank) = c(\"Date\",  \"Citibank\", \"Wells Fargo\", \"Bank of America\", \"JP Morgan\", \"Bank of Ozarks\", \"SP500\")\n",
      "write.csv(file='../data/cleaned/bank.csv', x=bank, row.names=FALSE)"
     ],
     "language": "python",
     "metadata": {},
     "outputs": [],
     "prompt_number": 19
    },
    {
     "cell_type": "code",
     "collapsed": false,
     "input": [
      "# Displaying Category Data\n",
      "# IT\n",
      "print('Category Data - IT')\n",
      "!head '../data/cleaned/IT.csv'\n",
      "print('')\n",
      "\n",
      "# Retail\n",
      "print('Category Data - Retail')\n",
      "!head '../data/cleaned/retail.csv'\n",
      "print('')\n",
      "\n",
      "# Bank\n",
      "print('Category Data - Bank')\n",
      "!head '../data/cleaned/bank.csv'\n",
      "print('')"
     ],
     "language": "python",
     "metadata": {},
     "outputs": [
      {
       "output_type": "stream",
       "stream": "stdout",
       "text": [
        "Category Data - IT\n",
        "\"Date\",\"Apple\",\"Google\",\"Amazon\",\"Microsoft\",\"HP\",\"S&P 500\"\r\n",
        "\"2008-03-31\",137.93,220.46,71.3,24.44,44.51,1322.7\r\n",
        "\"2008-04-01\",143.72,233.09,76.7,25.4,45.07,1370.18\r\n",
        "\"2008-04-02\",141.76,233.08,77.37,25.11,46.06,1367.53\r\n",
        "\"2008-04-03\",145.72,227.79,74.94,24.97,46.51,1369.31\r\n",
        "\"2008-04-04\",147.13,235.78,76.87,25.11,46.93,1370.4\r\n",
        "\"2008-04-07\",149.83,238.65,76.9,25.11,47.42,1372.54\r\n",
        "\"2008-04-08\",146.9,234.14,77.3,24.76,48.24,1365.54\r\n",
        "\"2008-04-09\",145.56,232.33,74.39,24.88,48.79,1354.49\r\n",
        "\"2008-04-10\",148.55,234.77,74.83,25.07,49.48,1360.55\r\n"
       ]
      },
      {
       "output_type": "stream",
       "stream": "stdout",
       "text": [
        "\n",
        "Category Data - Retail\n",
        "\"Date\",\"Target\",\"Costco\",\"Walmart\",\"Walgreen\",\"Safeway\",\"SP500\"\r\n",
        "\"2008-03-31\",44.99,56.45,45.85,33.63,22.66,1322.7\r\n",
        "\"2008-04-01\",47.29,57.77,47.07,34.37,23.07,1370.18\r\n",
        "\"2008-04-02\",47.45,57.57,47.4,33.67,22.68,1367.53\r\n",
        "\"2008-04-03\",47.28,58.1,47.81,33.72,22.5,1369.31\r\n",
        "\"2008-04-04\",46.76,57.74,47.35,33.46,22.33,1370.4\r\n",
        "\"2008-04-07\",46.85,57.61,47.2,33.59,22.23,1372.54\r\n",
        "\"2008-04-08\",47.28,58.16,47.39,33.22,22.15,1365.54\r\n",
        "\"2008-04-09\",46.47,57.37,47.12,32.59,22.11,1354.49\r\n",
        "\"2008-04-10\",47.2,57.8,47.57,32.33,22.31,1360.55\r\n"
       ]
      },
      {
       "output_type": "stream",
       "stream": "stdout",
       "text": [
        "\n",
        "Category Data - Bank\n",
        "\"Date\",\"Citibank\",\"Wells Fargo\",\"Bank of America\",\"JP Morgan\",\"Bank of Ozarks\",\"SP500\"\r\n",
        "\"2008-03-31\",21.53,25.27,34.9,37.35,10.69,1322.7\r\n",
        "\"2008-04-01\",23.08,27.35,37.61,40.87,10.85,1370.18\r\n",
        "\"2008-04-02\",23,26.52,37.1,40.54,10.81,1367.53\r\n",
        "\"2008-04-03\",21.69,26.74,37.16,40.57,10.69,1369.31\r\n",
        "\"2008-04-04\",20.95,26.86,36.28,39.95,10.49,1370.4\r\n",
        "\"2008-04-07\",20.94,26.74,36.36,39.92,10.58,1372.54\r\n",
        "\"2008-04-08\",20.65,25.99,35.33,39.33,10.83,1365.54\r\n",
        "\"2008-04-09\",19.88,25.58,34.92,38.83,10.62,1354.49\r\n",
        "\"2008-04-10\",20.77,24.77,34.7,38.45,10.7,1360.55\r\n"
       ]
      },
      {
       "output_type": "stream",
       "stream": "stdout",
       "text": [
        "\n"
       ]
      }
     ],
     "prompt_number": 20
    },
    {
     "cell_type": "markdown",
     "metadata": {},
     "source": [
      "We combined the dataset (including S&P500 data) into 3 different industry. By doing so, we can do the analysis later on easily."
     ]
    }
   ],
   "metadata": {}
  }
 ]
}