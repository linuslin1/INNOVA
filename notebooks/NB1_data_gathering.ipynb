{
 "metadata": {
  "name": ""
 },
 "nbformat": 3,
 "nbformat_minor": 0,
 "worksheets": [
  {
   "cells": [
    {
     "cell_type": "markdown",
     "metadata": {},
     "source": [
      "In this notebook, you'll\n",
      "\n",
      "* create the directory structure for your project\n",
      "* download the raw data for your project\n",
      "* **write functions and classes to transform raw data (e.g in XML, jason, etc.) into data frames**\n",
      "* explain what your are doing"
     ]
    },
    {
     "cell_type": "markdown",
     "metadata": {},
     "source": [
      "##Team Members Responsible for This Notebook:\n",
      "\n",
      "List the team members contributing to this notebook, along with their responsabilities:\n",
      "\n",
      "* Team Member 1 **Hui, Man Kin (Ken)**: Write Code for Downloading Data from API\n",
      "* Team Member 2 **name**: team member 2 **responsabilities**\n",
      "* etc.\n",
      "\n",
      "I advise you to work at least in pairs for each project notebook, as you did for the homework assignments. Of course, all team members may participate to each notebook. "
     ]
    },
    {
     "cell_type": "heading",
     "level": 1,
     "metadata": {},
     "source": [
      "Using R Magic"
     ]
    },
    {
     "cell_type": "code",
     "collapsed": false,
     "input": [
      "# Loading R Magic\n",
      "%load_ext rmagic"
     ],
     "language": "python",
     "metadata": {},
     "outputs": [],
     "prompt_number": 3
    },
    {
     "cell_type": "heading",
     "level": 1,
     "metadata": {},
     "source": [
      "Import Datetime & Pandas"
     ]
    },
    {
     "cell_type": "code",
     "collapsed": false,
     "input": [
      "# Import Datetime & Pandas\n",
      "import datetime\n",
      "import pandas as pd\n",
      "import pandas.io.data\n",
      "from pandas import Series, DataFrame"
     ],
     "language": "python",
     "metadata": {},
     "outputs": [],
     "prompt_number": 5
    },
    {
     "cell_type": "heading",
     "level": 1,
     "metadata": {},
     "source": [
      "Creating Directory"
     ]
    },
    {
     "cell_type": "code",
     "collapsed": false,
     "input": [
      "%%bash\n",
      "# Creating directory - script, data (with raw, cleaned, simulated), and visualizations\n",
      "mkdir ../script ../data ../data/raw ../data/cleaned ../data/simulated ../visualizations\n",
      "ls -r"
     ],
     "language": "python",
     "metadata": {},
     "outputs": [
      {
       "output_type": "stream",
       "stream": "stdout",
       "text": [
        "Untitled0.ipynb\n",
        "try.ipynb\n",
        "README.md\n",
        "NB4_project_report.ipynb\n",
        "NB3_data_analysis.ipynb\n",
        "NB2_data_cleaning.ipynb\n",
        "NB1_data_gathering.ipynb\n"
       ]
      },
      {
       "output_type": "stream",
       "stream": "stderr",
       "text": [
        "mkdir: cannot create directory \u2018../script\u2019: File exists\n",
        "mkdir: cannot create directory \u2018../data\u2019: File exists\n",
        "mkdir: cannot create directory \u2018../data/raw\u2019: File exists\n",
        "mkdir: cannot create directory \u2018../data/simulated\u2019: File exists\n",
        "mkdir: cannot create directory \u2018../visualizations\u2019: File exists\n"
       ]
      }
     ],
     "prompt_number": 3
    },
    {
     "cell_type": "heading",
     "level": 1,
     "metadata": {},
     "source": [
      "Downloading Data"
     ]
    },
    {
     "cell_type": "heading",
     "level": 2,
     "metadata": {},
     "source": [
      "Function for Downloading Stock Data from Yahoo Finance API"
     ]
    },
    {
     "cell_type": "code",
     "collapsed": false,
     "input": [
      "# Function for Downloading Raw Data from Yahoo API\n",
      "def download(a):\n",
      "    return(pd.io.data.get_data_yahoo(a,\n",
      "                                     start = datetime.datetime(2008, 3, 31),\n",
      "                                     end = datetime.datetime(2014, 3, 31)))"
     ],
     "language": "python",
     "metadata": {},
     "outputs": [],
     "prompt_number": 6
    },
    {
     "cell_type": "heading",
     "level": 2,
     "metadata": {},
     "source": [
      "Downloading and Displaying Raw Data"
     ]
    },
    {
     "cell_type": "heading",
     "level": 3,
     "metadata": {},
     "source": [
      "Yahoo Finance Data"
     ]
    },
    {
     "cell_type": "code",
     "collapsed": false,
     "input": [
      "# Downloading Raw Data\n",
      "# Mapping Dictionary\n",
      "stocks = [{'name': 'Apple', 'symbol': 'aapl'},\n",
      "          {'name': 'Google', 'symbol': 'googl'},\n",
      "          {'name': 'Amazon', 'symbol': 'amzn'},\n",
      "          {'name': 'Microsoft', 'symbol': 'msft'},\n",
      "          {'name': 'HP', 'symbol': 'hp'},\n",
      "          {'name': 'SP500', 'symbol': '^GSPC'}]\n",
      "\n",
      "for stock in stocks:\n",
      "    stock['pd'] = download(stock['symbol'].upper()) # Downloading Data\n",
      "    fname = '../data/raw/'+stock['symbol']+'.csv' # Path\n",
      "    stock['pd'].to_csv(fname) # Saving Raw Data to CSV\n",
      "    print('Raw Data - '+stock['name']) # Displaying Data\n",
      "    !head $fname\n",
      "    print('')"
     ],
     "language": "python",
     "metadata": {},
     "outputs": [
      {
       "output_type": "stream",
       "stream": "stdout",
       "text": [
        "Raw Data - Apple\n",
        "Date,Open,High,Low,Close,Volume,Adj Close\r\n",
        "2008-03-31,143.27,145.71,142.52,143.5,27430900,137.93\r\n",
        "2008-04-01,146.3,149.66,143.61,149.53,36877400,143.72\r\n",
        "2008-04-02,148.78,151.2,145.85,147.49,37320300,141.76\r\n",
        "2008-04-03,147.06,153.63,147.0,151.61,37556000,145.72\r\n",
        "2008-04-04,152.19,154.71,150.75,153.08,30514900,147.13\r\n",
        "2008-04-07,156.13,159.69,155.11,155.89,41368800,149.83\r\n",
        "2008-04-08,153.55,156.45,152.32,152.84,36224800,146.9\r\n",
        "2008-04-09,153.31,153.89,150.46,151.44,31192800,145.56\r\n",
        "2008-04-10,151.13,155.42,150.6,154.55,34134400,148.55\r\n"
       ]
      },
      {
       "output_type": "stream",
       "stream": "stdout",
       "text": [
        "\n",
        "Raw Data - Google"
       ]
      },
      {
       "output_type": "stream",
       "stream": "stdout",
       "text": [
        "\n",
        "Date,Open,High,Low,Close,Volume,Adj Close\r\n",
        "2008-03-31,435.64,442.69,432.01,440.47,8883900,220.46\r\n",
        "2008-04-01,447.74,466.5,446.87,465.71,12174000,233.09\r\n",
        "2008-04-02,469.9,475.74,460.39,465.7,11986000,233.08\r\n",
        "2008-04-03,461.73,463.29,448.13,455.12,13543200,227.79\r\n",
        "2008-04-04,457.01,477.83,456.2,471.09,11782600,235.78\r\n",
        "2008-04-07,477.03,485.44,473.53,476.82,11875100,238.65\r\n",
        "2008-04-08,473.04,474.14,462.01,467.81,9084900,234.14\r\n",
        "2008-04-09,469.13,472.0,457.54,464.19,12084100,232.33\r\n",
        "2008-04-10,464.96,473.86,461.85,469.08,10134600,234.77\r\n"
       ]
      },
      {
       "output_type": "stream",
       "stream": "stdout",
       "text": [
        "\n",
        "Raw Data - Amazon"
       ]
      },
      {
       "output_type": "stream",
       "stream": "stdout",
       "text": [
        "\n",
        "Date,Open,High,Low,Close,Volume,Adj Close\r\n",
        "2008-03-31,70.25,71.64,69.63,71.3,5470300,71.3\r\n",
        "2008-04-01,72.99,77.09,72.76,76.7,9734000,76.7\r\n",
        "2008-04-02,77.08,79.0,76.12,77.37,8592400,77.37\r\n",
        "2008-04-03,75.15,76.01,73.81,74.94,8149900,74.94\r\n",
        "2008-04-04,75.26,77.83,74.28,76.87,7152800,76.87\r\n",
        "2008-04-07,77.36,78.43,76.0,76.9,6672400,76.9\r\n",
        "2008-04-08,76.4,77.61,75.5,77.3,4966000,77.3\r\n",
        "2008-04-09,76.56,76.67,73.66,74.39,6660300,74.39\r\n",
        "2008-04-10,74.48,75.49,72.73,74.83,6255500,74.83\r\n"
       ]
      },
      {
       "output_type": "stream",
       "stream": "stdout",
       "text": [
        "\n",
        "Raw Data - Microsoft"
       ]
      },
      {
       "output_type": "stream",
       "stream": "stdout",
       "text": [
        "\n",
        "Date,Open,High,Low,Close,Volume,Adj Close\r\n",
        "2008-03-31,27.88,28.59,27.84,28.38,46780600,24.44\r\n",
        "2008-04-01,28.83,29.54,28.63,29.5,65796200,25.4\r\n",
        "2008-04-02,29.57,29.58,29.0,29.16,49499400,25.11\r\n",
        "2008-04-03,29.0,29.32,28.8,29.0,38961400,24.97\r\n",
        "2008-04-04,29.13,29.26,28.74,29.16,43860800,25.11\r\n",
        "2008-04-07,29.55,29.59,29.03,29.16,44428600,25.11\r\n",
        "2008-04-08,28.94,29.0,28.54,28.75,44733500,24.76\r\n",
        "2008-04-09,28.72,29.04,28.54,28.89,45839300,24.88\r\n",
        "2008-04-10,28.83,29.4,28.8,29.11,65591600,25.07\r\n"
       ]
      },
      {
       "output_type": "stream",
       "stream": "stdout",
       "text": [
        "\n",
        "Raw Data - HP"
       ]
      },
      {
       "output_type": "stream",
       "stream": "stdout",
       "text": [
        "\n",
        "Date,Open,High,Low,Close,Volume,Adj Close\r\n",
        "2008-03-31,46.33,47.13,45.51,46.87,1699500,44.51\r\n",
        "2008-04-01,47.35,47.55,45.57,47.46,1303600,45.07\r\n",
        "2008-04-02,47.57,48.95,46.51,48.5,1629800,46.06\r\n",
        "2008-04-03,48.43,49.61,48.06,48.97,1957800,46.51\r\n",
        "2008-04-04,49.73,50.37,48.94,49.41,1829200,46.93\r\n",
        "2008-04-07,50.39,50.69,49.58,49.93,1252500,47.42\r\n",
        "2008-04-08,50.47,51.11,49.62,50.79,1003700,48.24\r\n",
        "2008-04-09,50.57,51.98,50.55,51.37,1160000,48.79\r\n",
        "2008-04-10,50.81,52.11,50.5,52.1,1513900,49.48\r\n"
       ]
      },
      {
       "output_type": "stream",
       "stream": "stdout",
       "text": [
        "\n",
        "Raw Data - SP500"
       ]
      },
      {
       "output_type": "stream",
       "stream": "stdout",
       "text": [
        "\n",
        "Date,Open,High,Low,Close,Volume,Adj Close\r\n",
        "2008-03-31,1315.92,1328.52,1312.81,1322.7,4188990000,1322.7\r\n",
        "2008-04-01,1326.41,1370.18,1326.41,1370.18,4745120000,1370.18\r\n",
        "2008-04-02,1369.96,1377.95,1361.55,1367.53,4320440000,1367.53\r\n",
        "2008-04-03,1365.69,1375.66,1358.68,1369.31,3920100000,1369.31\r\n",
        "2008-04-04,1369.85,1380.91,1362.83,1370.4,3703100000,1370.4\r\n",
        "2008-04-07,1373.69,1386.74,1369.02,1372.54,3747780000,1372.54\r\n",
        "2008-04-08,1370.16,1370.16,1360.62,1365.54,3602500000,1365.54\r\n",
        "2008-04-09,1365.5,1368.39,1349.97,1354.49,3556670000,1354.49\r\n",
        "2008-04-10,1355.37,1367.24,1350.11,1360.55,3686150000,1360.55\r\n"
       ]
      },
      {
       "output_type": "stream",
       "stream": "stdout",
       "text": [
        "\n"
       ]
      }
     ],
     "prompt_number": 20
    },
    {
     "cell_type": "heading",
     "level": 3,
     "metadata": {},
     "source": [
      "Federal Reserve Data - LIBOR"
     ]
    },
    {
     "cell_type": "code",
     "collapsed": false,
     "input": [
      "%%R\n",
      "# Downloading Data\n",
      "libor_url  =  'http://www.federalreserve.gov/datadownload/Output.aspx?rel=H15&series=27f0815d23884776d16f28288a09804a&lastObs=&from=&to=&filetype=csv&label=include&layout=seriescolumn'\n",
      "libor_file = '../data/raw/libor.csv'\n",
      "\n",
      "download.file(libor_url, libor_file, method=\"curl\")"
     ],
     "language": "python",
     "metadata": {},
     "outputs": [
      {
       "output_type": "stream",
       "stream": "stderr",
       "text": [
        "ERROR: Cell magic `%%R` not found.\n"
       ]
      }
     ],
     "prompt_number": 1
    },
    {
     "cell_type": "code",
     "collapsed": false,
     "input": [
      "# Displaying Data\n",
      "!head '../data/raw/libor.csv'"
     ],
     "language": "python",
     "metadata": {},
     "outputs": [
      {
       "output_type": "stream",
       "stream": "stdout",
       "text": [
        "\"Series Description\",\"U.S. -- SHORT-TERM INTEREST RATES: DAILY 1-MONTH EURO-DOLLAR DEPOSIT RATE \"\r",
        "\r\n",
        "\"Unit:\",\"Percent:_Per_Year\"\r",
        "\r\n",
        "\"Multiplier:\",\"1\"\r",
        "\r\n",
        "\"Currency:\",\"NA\"\r",
        "\r\n",
        "\"Unique Identifier: \",\"H15/H15/RILSPDEPM01_N.B\"\r",
        "\r\n",
        "\"Time Period\",\"RILSPDEPM01_N.B\"\r",
        "\r\n",
        "1971-01-04,6.38\r",
        "\r\n",
        "1971-01-05,6.31\r",
        "\r\n",
        "1971-01-06,6.13\r",
        "\r\n",
        "1971-01-07,6.19\r",
        "\r\n"
       ]
      }
     ],
     "prompt_number": 2
    },
    {
     "cell_type": "code",
     "collapsed": false,
     "input": [],
     "language": "python",
     "metadata": {},
     "outputs": []
    }
   ],
   "metadata": {}
  }
 ]
}