{
 "metadata": {
  "name": ""
 },
 "nbformat": 3,
 "nbformat_minor": 0,
 "worksheets": [
  {
   "cells": [
    {
     "cell_type": "markdown",
     "metadata": {},
     "source": [
      "In this notebook, you'll perform the actual analysis of the data stored in the directory\n",
      "\n",
      "    ./data/cleaned\n",
      "\n",
      "If the data is not ready yet (e.g. the other members of the team in charge of cleaning the data are not done yet), you may want to simulate cleaned data in the form you want them to be in order to perform the analysis. This may also help you data cleaning team to come up with the rigth data frame. \n",
      "If you choose to do so, store your simulated data into the directory\n",
      "\n",
      "    ./data/simulated\n",
      "    \n",
      "Having performed analysis of simulated data may help you with the analysis of the actual data, since you will be able to notice deviations between the real and simulated data, which may be worth explaining and investigating further.\n",
      "\n",
      "The graphics your going to produce as a result of your analysis should be store in the directory:\n",
      "\n",
      "\n",
      "    ./visualization\n",
      "\n"
     ]
    },
    {
     "cell_type": "markdown",
     "metadata": {},
     "source": [
      "##Team members responsible for this notebook:\n",
      "\n",
      "List the team members contributing to this notebook, along with their responsabilities:\n",
      "\n",
      "* team member 1 **name**: team member 1 **responsabilities**\n",
      "* team member 2 **name**: team member 2 **responsabilities**\n",
      "* etc.\n",
      "\n",
      "I advise you to work at least in pairs for each project notebook, as you did for the homework assignments. Of course, all team members may participate to each notebook. "
     ]
    },
    {
     "cell_type": "heading",
     "level": 1,
     "metadata": {},
     "source": [
      "Profolio Optimization"
     ]
    },
    {
     "cell_type": "heading",
     "level": 2,
     "metadata": {},
     "source": [
      "Loading Library"
     ]
    },
    {
     "cell_type": "code",
     "collapsed": false,
     "input": [
      "%%R\n",
      "#install.packages(\"Quandl\")\n",
      "library(Quandl)\n",
      "#install.packages(\"devtools\")\n",
      "library(\"devtools\")\n",
      "#install_github('R-package', 'quandl')"
     ],
     "language": "python",
     "metadata": {},
     "outputs": [
      {
       "metadata": {},
       "output_type": "display_data",
       "text": [
        "--- Please select a CRAN mirror for use in this session ---\n",
        "trying URL 'http://cran.cnr.Berkeley.edu/bin/macosx/contrib/3.1/Quandl_2.3.2.tgz'\n",
        "Content type 'application/x-gzip' length 28223 bytes (27 Kb)\n",
        "opened URL\n",
        "==================================================\n",
        "downloaded 27 Kb\n",
        "\n",
        "\n",
        "The downloaded binary packages are in\n",
        "\t/var/folders/bv/0jyx579n27q0j81ydzzs1mm00000gn/T//RtmpXPlp3C/downloaded_packages\n",
        "also installing the dependencies \u2018stringr\u2019, \u2018httr\u2019, \u2018memoise\u2019, \u2018whisker\u2019, \u2018evaluate\u2019, \u2018digest\u2019\n",
        "\n",
        "trying URL 'http://cran.cnr.Berkeley.edu/bin/macosx/contrib/3.1/stringr_0.6.2.tgz'\n",
        "Content type 'application/x-gzip' length 71095 bytes (69 Kb)\n",
        "opened URL\n",
        "==================================================\n",
        "downloaded 69 Kb\n",
        "\n",
        "trying URL 'http://cran.cnr.Berkeley.edu/bin/macosx/contrib/3.1/httr_0.3.tgz'\n",
        "Content type 'application/x-gzip' length 325741 bytes (318 Kb)\n",
        "opened URL\n",
        "==================================================\n",
        "downloaded 318 Kb\n",
        "\n",
        "trying URL 'http://cran.cnr.Berkeley.edu/bin/macosx/contrib/3.1/memoise_0.2.1.tgz'\n",
        "Content type 'application/x-gzip' length 14111 bytes (13 Kb)\n",
        "opened URL\n",
        "==================================================\n",
        "downloaded 13 Kb\n",
        "\n",
        "trying URL 'http://cran.cnr.Berkeley.edu/bin/macosx/contrib/3.1/whisker_0.3-2.tgz'\n",
        "Content type 'application/x-gzip' length 47145 bytes (46 Kb)\n",
        "opened URL\n",
        "==================================================\n",
        "downloaded 46 Kb\n",
        "\n",
        "trying URL 'http://cran.cnr.Berkeley.edu/bin/macosx/contrib/3.1/evaluate_0.5.5.tgz'\n",
        "Content type 'application/x-gzip' length 36465 bytes (35 Kb)\n",
        "opened URL\n",
        "==================================================\n",
        "downloaded 35 Kb\n",
        "\n",
        "trying URL 'http://cran.cnr.Berkeley.edu/bin/macosx/contrib/3.1/digest_0.6.4.tgz'\n",
        "Content type 'application/x-gzip' length 103487 bytes (101 Kb)\n",
        "opened URL\n",
        "==================================================\n",
        "downloaded 101 Kb\n",
        "\n",
        "trying URL 'http://cran.cnr.Berkeley.edu/bin/macosx/contrib/3.1/devtools_1.5.tgz'\n",
        "Content type 'application/x-gzip' length 242241 bytes (236 Kb)\n",
        "opened URL\n",
        "==================================================\n",
        "downloaded 236 Kb\n",
        "\n",
        "\n",
        "The downloaded binary packages are in\n",
        "\t/var/folders/bv/0jyx579n27q0j81ydzzs1mm00000gn/T//RtmpXPlp3C/downloaded_packages\n",
        "\n",
        "Attaching package: \u2018devtools\u2019\n",
        "\n",
        "The following objects are masked from \u2018package:utils\u2019:\n",
        "\n",
        "    ?, help\n",
        "\n",
        "The following object is masked from \u2018package:base\u2019:\n",
        "\n",
        "    system.file\n",
        "\n",
        "Installing github repo R-package/master from quandl\n",
        "Downloading master.zip from https://github.com/quandl/R-package/archive/master.zip\n",
        "Installing package from /var/folders/bv/0jyx579n27q0j81ydzzs1mm00000gn/T//RtmpXPlp3C/master.zip\n",
        "arguments 'minimized' and 'invisible' are for Windows only\n",
        "Installing Quandl\n",
        "Installing dependencies for Quandl:\n",
        "testthat\n",
        "trying URL 'http://cran.cnr.Berkeley.edu/bin/macosx/contrib/3.1/testthat_0.8.1.tgz'\n",
        "Content type 'application/x-gzip' length 220188 bytes (215 Kb)\n",
        "opened URL\n",
        "==================================================\n",
        "downloaded 215 Kb\n",
        "\n",
        "\n",
        "The downloaded binary packages are in\n",
        "\t/var/folders/bv/0jyx579n27q0j81ydzzs1mm00000gn/T//RtmpXPlp3C/downloaded_packages\n",
        "'/Library/Frameworks/R.framework/Resources/bin/R' --vanilla CMD INSTALL  \\\n",
        "  '/private/var/folders/bv/0jyx579n27q0j81ydzzs1mm00000gn/T/RtmpXPlp3C/devtools17a448d40f33/R-package-master'  \\\n",
        "  --library='/Library/Frameworks/R.framework/Versions/3.1/Resources/library'  \\\n",
        "  --install-tests \n",
        "\n",
        "Reloading installed Quandl\n"
       ]
      }
     ],
     "prompt_number": 10
    },
    {
     "cell_type": "heading",
     "level": 2,
     "metadata": {},
     "source": [
      "Loading Data"
     ]
    },
    {
     "cell_type": "code",
     "collapsed": false,
     "input": [
      "%%R\n",
      "IT = read.csv('../data/cleaned/IT.csv', stringsAsFactors = FALSE)\n",
      "retail = read.csv('../data/cleaned/retail.csv', stringsAsFactors = FALSE)\n",
      "bank = read.csv('../data/cleaned/bank.csv', stringsAsFactors = FALSE)\n",
      "\n",
      "#print(head(IT))\n",
      "#print(sapply(IT, class))"
     ],
     "language": "python",
     "metadata": {},
     "outputs": [],
     "prompt_number": 11
    },
    {
     "cell_type": "heading",
     "level": 2,
     "metadata": {},
     "source": [
      "Min Variance Function"
     ]
    },
    {
     "cell_type": "code",
     "collapsed": false,
     "input": [
      "%%R\n",
      "# Min Variance Function\n",
      "minvariance <- function(assets, mu = 0.005) {\n",
      "      returns\u00a0\u00a0<- log(tail(assets, -1) / head(assets, -1)) # Return\n",
      "        Q\u00a0\u00a0\u00a0\u00a0\u00a0\u00a0\u00a0<- rbind(cov(returns), rep(1, ncol(assets)), colMeans(returns))\n",
      "\u00a0\u00a0\u00a0\u00a0\u00a0\u00a0\u00a0\u00a0Q\u00a0\u00a0\u00a0\u00a0\u00a0\u00a0\u00a0<- cbind(Q, rbind(t(tail(Q,2)), matrix(0, 2, 2)))\n",
      "\u00a0\u00a0\u00a0\u00a0\u00a0\u00a0\u00a0\u00a0b\u00a0\u00a0\u00a0\u00a0\u00a0\u00a0\u00a0<- c(rep(0, ncol(assets)), 1, mu)\n",
      "\u00a0\u00a0\u00a0\u00a0\u00a0\u00a0\u00a0\u00a0solve(Q,b)\n",
      "}"
     ],
     "language": "python",
     "metadata": {},
     "outputs": [],
     "prompt_number": 12
    },
    {
     "cell_type": "code",
     "collapsed": false,
     "input": [
      "%%R\n",
      "print(minvariance(IT[,-1]))\n",
      "print(minvariance(retail[,-1]))\n",
      "print(minvariance(bank[,-1]))"
     ],
     "language": "python",
     "metadata": {},
     "outputs": [
      {
       "metadata": {},
       "output_type": "display_data",
       "text": [
        "        Apple        Google        Amazon     Microsoft            HP \n",
        " 3.098662e+00  1.406482e+00  2.167257e+00  5.842185e-01  1.026620e+00 \n",
        "      S.P.500                             \n",
        "-7.283239e+00  4.275244e-05 -1.500718e+00 \n",
        "       Target        Costco       Walmart      Walgreen       Safeway \n",
        " -5.366630762  13.916418373  -0.227574134   7.224860202  -1.716476011 \n",
        "        SP500                             \n",
        "-12.830597667   0.003140511  -9.216317023 \n",
        "       Citibank     Wells.Fargo Bank.of.America       JP.Morgan  Bank.of.Ozarks \n",
        "    -0.24283528      1.14003005     -1.59229920      0.26678178      2.50037519 \n",
        "          SP500                                 \n",
        "    -1.07205255      0.00028916     -0.97392495 \n"
       ]
      }
     ],
     "prompt_number": 13
    },
    {
     "cell_type": "code",
     "collapsed": false,
     "input": [
      "%%R\n",
      "frontier <- function(assets) {\n",
      "returns <- log(tail(assets, -1) / head(assets, -1))\n",
      "\u00a0\u00a0\u00a0\u00a0\u00a0\u00a0\u00a0Q\u00a0\u00a0<- cov(returns)\n",
      "\u00a0\u00a0\u00a0\u00a0\u00a0\u00a0\u00a0n\u00a0\u00a0<- ncol(assets)\n",
      "\u00a0\u00a0\u00a0\u00a0\u00a0\u00a0\u00a0r\u00a0\u00a0<- colMeans(returns)\n",
      "\u00a0\u00a0\u00a0\u00a0\u00a0\u00a0\u00a0Q1 <- rbind(Q, rep(1, n), r)\n",
      "\u00a0\u00a0\u00a0\u00a0\u00a0\u00a0\u00a0Q1 <- cbind(Q1, rbind(t(tail(Q1, 2)), matrix(0, 2, 2)))\n",
      "\u00a0\u00a0\u00a0\u00a0\u00a0\u00a0\u00a0rbase <- seq(min(r), max(r), length = 100)\n",
      "\u00a0\u00a0\u00a0\u00a0\u00a0\u00a0\u00a0s\u00a0\u00a0<- sapply(rbase, function(x) {\n",
      "\u00a0\u00a0\u00a0\u00a0\u00a0\u00a0\u00a0\u00a0\u00a0\u00a0\u00a0y <- head(solve(Q1, c(rep(0, n), 1, x)), n)\n",
      "\u00a0\u00a0\u00a0\u00a0\u00a0\u00a0\u00a0\u00a0\u00a0\u00a0\u00a0y %*% Q %*% y \n",
      "\u00a0\u00a0\u00a0\u00a0\u00a0\u00a0\u00a0})\n",
      "\u00a0\u00a0\u00a0\u00a0\u00a0\u00a0\u00a0plot(s, rbase, xlab = 'Returns', ylab = 'Variance', main = 'Profolio Frontier')\n",
      "\u00a0\u00a0\u00a0}"
     ],
     "language": "python",
     "metadata": {},
     "outputs": [],
     "prompt_number": 14
    },
    {
     "cell_type": "code",
     "collapsed": false,
     "input": [
      "%%R\n",
      "jpeg('../visualizations/PF_IT.jpg')\n",
      "frontier(IT[,-1])\n",
      "dev.off()\n",
      "\n",
      "jpeg('../visualizations/PF_Retail.jpg')\n",
      "frontier(retail[,-1])\n",
      "dev.off()\n",
      "\n",
      "jpeg('../visualizations/PF_Bank.jpg')\n",
      "frontier(bank[,-1])\n",
      "dev.off()"
     ],
     "language": "python",
     "metadata": {},
     "outputs": [],
     "prompt_number": 21
    },
    {
     "cell_type": "code",
     "collapsed": false,
     "input": [
      "%%R\n",
      "install.packages(\"timeSeries\")\n",
      "install.packages(\"PerformanceAnalytics\")\n",
      "install.packages(\"fPortfolio\")"
     ],
     "language": "python",
     "metadata": {},
     "outputs": [
      {
       "metadata": {},
       "output_type": "display_data",
       "text": [
        "also installing the dependency \u2018timeDate\u2019\n",
        "\n",
        "trying URL 'http://cran.cnr.Berkeley.edu/bin/macosx/contrib/3.1/timeDate_3010.98.tgz'\n",
        "Content type 'application/x-gzip' length 791141 bytes (772 Kb)\n",
        "opened URL\n",
        "==================================================\n",
        "downloaded 772 Kb\n",
        "\n",
        "trying URL 'http://cran.cnr.Berkeley.edu/bin/macosx/contrib/3.1/timeSeries_3010.97.tgz'\n",
        "Content type 'application/x-gzip' length 735861 bytes (718 Kb)\n",
        "opened URL\n",
        "==================================================\n",
        "downloaded 718 Kb\n",
        "\n",
        "\n",
        "The downloaded binary packages are in\n",
        "\t/var/folders/bv/0jyx579n27q0j81ydzzs1mm00000gn/T//RtmpXPlp3C/downloaded_packages\n",
        "trying URL 'http://cran.cnr.Berkeley.edu/bin/macosx/contrib/3.1/PerformanceAnalytics_1.1.0.tgz'\n",
        "Content type 'application/x-gzip' length 2205541 bytes (2.1 Mb)\n",
        "opened URL\n",
        "==================================================\n",
        "downloaded 2.1 Mb\n",
        "\n",
        "\n",
        "The downloaded binary packages are in\n",
        "\t/var/folders/bv/0jyx579n27q0j81ydzzs1mm00000gn/T//RtmpXPlp3C/downloaded_packages\n",
        "also installing the dependencies \u2018mnormt\u2019, \u2018numDeriv\u2019, \u2018DEoptimR\u2019, \u2018stabledist\u2019, \u2018gss\u2019, \u2018fCopulae\u2019, \u2018sn\u2019, \u2018ecodist\u2019, \u2018energy\u2019, \u2018mvnormtest\u2019, \u2018slam\u2019, \u2018robustbase\u2019, \u2018fBasics\u2019, \u2018fAssets\u2019, \u2018quadprog\u2019, \u2018Rglpk\u2019\n",
        "\n",
        "trying URL 'http://cran.cnr.Berkeley.edu/bin/macosx/contrib/3.1/mnormt_1.4-7.tgz'\n",
        "Content type 'application/x-gzip' length 78374 bytes (76 Kb)\n",
        "opened URL\n",
        "==================================================\n",
        "downloaded 76 Kb\n",
        "\n",
        "trying URL 'http://cran.cnr.Berkeley.edu/bin/macosx/contrib/3.1/numDeriv_2012.9-1.tgz'\n",
        "Content type 'application/x-gzip' length 94160 bytes (91 Kb)\n",
        "opened URL\n",
        "==================================================\n",
        "downloaded 91 Kb\n",
        "\n",
        "trying URL 'http://cran.cnr.Berkeley.edu/bin/macosx/contrib/3.1/DEoptimR_1.0-1.tgz'\n",
        "Content type 'application/x-gzip' length 31080 bytes (30 Kb)\n",
        "opened URL\n",
        "==================================================\n",
        "downloaded 30 Kb\n",
        "\n",
        "trying URL 'http://cran.cnr.Berkeley.edu/bin/macosx/contrib/3.1/stabledist_0.6-6.tgz'\n",
        "Content type 'application/x-gzip' length 37766 bytes (36 Kb)\n",
        "opened URL\n",
        "==================================================\n",
        "downloaded 36 Kb\n",
        "\n",
        "trying URL 'http://cran.cnr.Berkeley.edu/bin/macosx/contrib/3.1/gss_2.1-0.tgz'\n",
        "Content type 'application/x-gzip' length 833220 bytes (813 Kb)\n",
        "opened URL\n",
        "==================================================\n",
        "downloaded 813 Kb\n",
        "\n",
        "trying URL 'http://cran.cnr.Berkeley.edu/bin/macosx/contrib/3.1/fCopulae_3000.79.tgz'\n",
        "Content type 'application/x-gzip' length 330786 bytes (323 Kb)\n",
        "opened URL\n",
        "==================================================\n",
        "downloaded 323 Kb\n",
        "\n",
        "trying URL 'http://cran.cnr.Berkeley.edu/bin/macosx/contrib/3.1/sn_1.0-0.tgz'\n",
        "Content type 'application/x-gzip' length 355803 bytes (347 Kb)\n",
        "opened URL\n",
        "==================================================\n",
        "downloaded 347 Kb\n",
        "\n",
        "trying URL 'http://cran.cnr.Berkeley.edu/bin/macosx/contrib/3.1/ecodist_1.2.9.tgz'\n",
        "Content type 'application/x-gzip' length 823404 bytes (804 Kb)\n",
        "opened URL\n",
        "==================================================\n",
        "downloaded 804 Kb\n",
        "\n",
        "trying URL 'http://cran.cnr.Berkeley.edu/bin/macosx/contrib/3.1/energy_1.6.1.tgz'\n",
        "Content type 'application/x-gzip' length 120447 bytes (117 Kb)\n",
        "opened URL\n",
        "==================================================\n",
        "downloaded 117 Kb\n",
        "\n",
        "trying URL 'http://cran.cnr.Berkeley.edu/bin/macosx/contrib/3.1/mvnormtest_0.1-9.tgz'\n",
        "Content type 'application/x-gzip' length 19392 bytes (18 Kb)\n",
        "opened URL\n",
        "==================================================\n",
        "downloaded 18 Kb\n",
        "\n",
        "trying URL 'http://cran.cnr.Berkeley.edu/bin/macosx/contrib/3.1/slam_0.1-32.tgz'\n",
        "Content type 'application/x-gzip' length 95820 bytes (93 Kb)\n",
        "opened URL\n",
        "==================================================\n",
        "downloaded 93 Kb\n",
        "\n",
        "trying URL 'http://cran.cnr.Berkeley.edu/bin/macosx/contrib/3.1/robustbase_0.91-1.tgz'\n",
        "Content type 'application/x-gzip' length 2791939 bytes (2.7 Mb)\n",
        "opened URL\n",
        "==================================================\n",
        "downloaded 2.7 Mb\n",
        "\n",
        "trying URL 'http://cran.cnr.Berkeley.edu/bin/macosx/contrib/3.1/fBasics_3010.86.tgz'\n",
        "Content type 'application/x-gzip' length 1241438 bytes (1.2 Mb)\n",
        "opened URL\n",
        "==================================================\n",
        "downloaded 1.2 Mb\n",
        "\n",
        "trying URL 'http://cran.cnr.Berkeley.edu/bin/macosx/contrib/3.1/fAssets_3003.81.tgz'\n",
        "Content type 'application/x-gzip' length 187096 bytes (182 Kb)\n",
        "opened URL\n",
        "==================================================\n",
        "downloaded 182 Kb\n",
        "\n",
        "trying URL 'http://cran.cnr.Berkeley.edu/bin/macosx/contrib/3.1/quadprog_1.5-5.tgz'\n",
        "Content type 'application/x-gzip' length 43651 bytes (42 Kb)\n",
        "opened URL\n",
        "==================================================\n",
        "downloaded 42 Kb\n",
        "\n",
        "trying URL 'http://cran.cnr.Berkeley.edu/bin/macosx/contrib/3.1/Rglpk_0.5-2.tgz'\n",
        "Content type 'application/x-gzip' length 1041065 bytes (1016 Kb)\n",
        "opened URL\n",
        "==================================================\n",
        "downloaded 1016 Kb\n",
        "\n",
        "trying URL 'http://cran.cnr.Berkeley.edu/bin/macosx/contrib/3.1/fPortfolio_2130.80.tgz'\n",
        "Content type 'application/x-gzip' length 3451018 bytes (3.3 Mb)\n",
        "opened URL\n",
        "==================================================\n",
        "downloaded 3.3 Mb\n",
        "\n",
        "\n",
        "The downloaded binary packages are in\n",
        "\t/var/folders/bv/0jyx579n27q0j81ydzzs1mm00000gn/T//RtmpXPlp3C/downloaded_packages\n"
       ]
      }
     ],
     "prompt_number": 16
    },
    {
     "cell_type": "code",
     "collapsed": false,
     "input": [
      "%%R\n",
      "library(timeSeries)\n",
      "# IT\n",
      "newtime1 <- as.POSIXct(IT$Date, format = \"%Y-%m-%d\")\n",
      "IT2 <- timeSeries(IT[, 2:6], newtime1)\n",
      "IT_return <- returns(IT2)\n",
      "\n",
      "# Retail\n",
      "newtime2 <- as.POSIXct(retail$Date, format = \"%Y-%m-%d\")\n",
      "retail2 <- timeSeries(retail[, 2:6], newtime2)\n",
      "retail_return <- returns(retail2)\n",
      "\n",
      "# Finance\n",
      "newtime3 <- as.POSIXct(bank$Date, format = \"%Y-%m-%d\")\n",
      "bank2 <- timeSeries(bank[, 2:6], newtime3)\n",
      "bank_return <- returns(bank2)"
     ],
     "language": "python",
     "metadata": {},
     "outputs": [],
     "prompt_number": 19
    },
    {
     "cell_type": "code",
     "collapsed": false,
     "input": [
      "%%R\n",
      "library(PerformanceAnalytics)\n",
      "jpeg('../visualizations/Return_IT.jpg')\n",
      "chart.CumReturns(IT_return, legend.loc='topleft',main='Returns of IT')\n",
      "dev.off()\n",
      "\n",
      "jpeg('../visualizations/Return_Retail.jpg')\n",
      "chart.CumReturns(retail_return, legend.loc='topleft',main='Returns of Retail')\n",
      "dev.off()\n",
      "\n",
      "jpeg('../visualizations/Return_Bank.jpg')\n",
      "chart.CumReturns(bank_return, legend.loc='topleft',main='Returns of Bank')\n",
      "dev.off()"
     ],
     "language": "python",
     "metadata": {},
     "outputs": [
      {
       "output_type": "stream",
       "stream": "stderr",
       "text": [
        "ERROR: Cell magic `%%R` not found.\n"
       ]
      }
     ],
     "prompt_number": 1
    },
    {
     "cell_type": "heading",
     "level": 1,
     "metadata": {},
     "source": [
      "Risk Analysis"
     ]
    },
    {
     "cell_type": "heading",
     "level": 3,
     "metadata": {},
     "source": [
      "Risk Analysis -- IT industry"
     ]
    },
    {
     "cell_type": "code",
     "collapsed": false,
     "input": [
      "%load_ext rmagic"
     ],
     "language": "python",
     "metadata": {},
     "outputs": [],
     "prompt_number": 1
    },
    {
     "cell_type": "code",
     "collapsed": false,
     "input": [
      "%%R\n",
      "GOOG <-read.csv(file=\"../data/cleaned/dgoogl.csv\",head=TRUE,sep=\",\")\n",
      "AAPL <-read.csv(file=\"../data/cleaned/daapl.csv\",head=TRUE,sep=\",\")\n",
      "AMZN <-read.csv(file=\"../data/cleaned/damzn.csv\",head=TRUE,sep=\",\")\n",
      "\n",
      "SP500 <- read.csv(file=\"../data/cleaned/dsp500.csv\",head=TRUE,sep=\",\")\n",
      "LIBOR <-read.csv(file=\"../data/cleaned/libor.csv\",head=TRUE,sep=\",\")"
     ],
     "language": "python",
     "metadata": {},
     "outputs": [],
     "prompt_number": 2
    },
    {
     "cell_type": "code",
     "collapsed": false,
     "input": [
      "%%R\n",
      "str(GOOG)\n",
      "str(AAPL)\n",
      "str(AMZN)\n",
      "\n",
      "str(SP500)\n",
      "str(LIBOR)"
     ],
     "language": "python",
     "metadata": {},
     "outputs": [
      {
       "metadata": {},
       "output_type": "display_data",
       "text": [
        "'data.frame':\t1512 obs. of  2 variables:\n",
        " $ Date     : Factor w/ 1512 levels \"2008-03-31\",\"2008-04-01\",..: 1 2 3 4 5 6 7 8 9 10 ...\n",
        " $ Adj.Close: num  220 233 233 228 236 ...\n",
        "'data.frame':\t1512 obs. of  2 variables:\n",
        " $ Date     : Factor w/ 1512 levels \"2008-03-31\",\"2008-04-01\",..: 1 2 3 4 5 6 7 8 9 10 ...\n",
        " $ Adj.Close: num  138 144 142 146 147 ...\n",
        "'data.frame':\t1512 obs. of  2 variables:\n",
        " $ Date     : Factor w/ 1512 levels \"2008-03-31\",\"2008-04-01\",..: 1 2 3 4 5 6 7 8 9 10 ...\n",
        " $ Adj.Close: num  71.3 76.7 77.4 74.9 76.9 ...\n",
        "'data.frame':\t1512 obs. of  2 variables:\n",
        " $ Date     : Factor w/ 1512 levels \"2008-03-31\",\"2008-04-01\",..: 1 2 3 4 5 6 7 8 9 10 ...\n",
        " $ Adj.Close: num  1323 1370 1368 1369 1370 ...\n",
        "'data.frame':\t1550 obs. of  2 variables:\n",
        " $ Time         : Factor w/ 1550 levels \"2008-03-31\",\"2008-04-01\",..: 1 2 3 4 5 6 7 8 9 10 ...\n",
        " $ X1.Month.Rate: num  3 3 3 3 3 2.95 3 3 3 2.95 ...\n"
       ]
      }
     ],
     "prompt_number": 3
    },
    {
     "cell_type": "code",
     "collapsed": false,
     "input": [
      "%%R\n",
      "GOOG <- GOOG$Adj.Close\n",
      "AAPL <- AAPL$Adj.Close\n",
      "AMZN <- AMZN$Adj.Close\n",
      "\n",
      "SP500 <- SP500$Adj.Close\n",
      "LIBOR <- LIBOR$X1.Month.Rate"
     ],
     "language": "python",
     "metadata": {},
     "outputs": [],
     "prompt_number": 4
    },
    {
     "cell_type": "code",
     "collapsed": false,
     "input": [
      "%%R\n",
      "print(sapply(list(GOOG, SP500, LIBOR), length))\n",
      "print(sapply(list(AAPL, SP500, LIBOR), length))\n",
      "print(sapply(list(AMZN, SP500, LIBOR), length))"
     ],
     "language": "python",
     "metadata": {},
     "outputs": [
      {
       "metadata": {},
       "output_type": "display_data",
       "text": [
        "[1] 1512 1512 1550\n",
        "[1] 1512 1512 1550\n",
        "[1] 1512 1512 1550\n"
       ]
      }
     ],
     "prompt_number": 5
    },
    {
     "cell_type": "code",
     "collapsed": false,
     "input": [
      "%%R\n",
      "options(stringsAsFactors = FALSE)\n",
      "SP500<- read.csv(file=\"../data/cleaned/dsp500.csv\",head=TRUE,sep=\",\")\n",
      "LIBOR<-read.csv(file=\"../data/cleaned/libor.csv\",head=TRUE,sep=\",\")\n",
      "GOOG <-read.csv(file=\"../data/cleaned/dgoogl.csv\",head=TRUE,sep=\",\")\n",
      "AAPL <-read.csv(file=\"../data/cleaned/daapl.csv\",head=TRUE,sep=\",\")\n",
      "AMZN <-read.csv(file=\"../data/cleaned/damzn.csv\",head=TRUE,sep=\",\")"
     ],
     "language": "python",
     "metadata": {},
     "outputs": [],
     "prompt_number": 6
    },
    {
     "cell_type": "code",
     "collapsed": false,
     "input": [
      "%%R\n",
      "# Matching\n",
      "cdates1 <- Reduce(intersect, list(GOOG$Date,SP500$Date,LIBOR$Time))\n",
      "cdates2 <- Reduce(intersect, list(AAPL$Date,SP500$Date,LIBOR$Time))\n",
      "cdates3 <- Reduce(intersect, list(AMZN$Date,SP500$Date,LIBOR$Time))\n",
      "\n",
      "print(head(cdates1))\n",
      "newtimes <- as.POSIXct(cdates1, format = \"%Y-%m-%d\")\n",
      "newtimes <- as.POSIXct(cdates2, format = \"%Y-%m-%d\")\n",
      "newtimes <- as.POSIXct(cdates3, format = \"%Y-%m-%d\")\n",
      "\n",
      "print(head(newtimes))\n",
      "print(head(as.numeric(diff(newtimes))))"
     ],
     "language": "python",
     "metadata": {},
     "outputs": [
      {
       "metadata": {},
       "output_type": "display_data",
       "text": [
        "[1] \"2008-03-31\" \"2008-04-01\" \"2008-04-02\" \"2008-04-03\" \"2008-04-04\"\n",
        "[6] \"2008-04-07\"\n",
        "[1] \"2008-03-31 PDT\" \"2008-04-01 PDT\" \"2008-04-02 PDT\" \"2008-04-03 PDT\"\n",
        "[5] \"2008-04-04 PDT\" \"2008-04-07 PDT\"\n",
        "[1] 1 1 1 1 3 1\n"
       ]
      }
     ],
     "prompt_number": 7
    },
    {
     "cell_type": "code",
     "collapsed": false,
     "input": [
      "%%R\n",
      "GOOG   <- GOOG[GOOG$Date %in% cdates1, 'Adj.Close']\n",
      "AAPL   <- AAPL[AAPL$Date %in% cdates2, 'Adj.Close']\n",
      "AMZN   <- AMZN[AMZN$Date %in% cdates3, 'Adj.Close']\n",
      "\n",
      "SP500  <- SP500[SP500$Date %in% cdates1, 'Adj.Close']\n",
      "LIBOR  <- LIBOR[LIBOR$Time %in% cdates1, 'X1.Month.Rate']"
     ],
     "language": "python",
     "metadata": {},
     "outputs": [],
     "prompt_number": 8
    },
    {
     "cell_type": "code",
     "collapsed": false,
     "input": [
      "%%R\n",
      "logreturn <- function(x) log(tail(x, -1) / head(x, -1))"
     ],
     "language": "python",
     "metadata": {},
     "outputs": [],
     "prompt_number": 9
    },
    {
     "cell_type": "code",
     "collapsed": false,
     "input": [
      "%%R\n",
      "print(head(LIBOR))"
     ],
     "language": "python",
     "metadata": {},
     "outputs": [
      {
       "metadata": {},
       "output_type": "display_data",
       "text": [
        "[1] 3.00 3.00 3.00 3.00 3.00 2.95\n"
       ]
      }
     ],
     "prompt_number": 10
    },
    {
     "cell_type": "code",
     "collapsed": false,
     "input": [
      "%%R\n",
      "rft <- log(1 + head(LIBOR, -1)/36000 * as.numeric(diff(newtimes)))\n",
      "str(rft)"
     ],
     "language": "python",
     "metadata": {},
     "outputs": [
      {
       "metadata": {},
       "output_type": "display_data",
       "text": [
        " num [1:1503] 8.33e-05 8.33e-05 8.33e-05 8.33e-05 2.50e-04 ...\n"
       ]
      }
     ],
     "prompt_number": 11
    },
    {
     "cell_type": "code",
     "collapsed": false,
     "input": [
      "%%R\n",
      "riskpremium <- function(x) logreturn(x) - rft"
     ],
     "language": "python",
     "metadata": {},
     "outputs": [],
     "prompt_number": 12
    },
    {
     "cell_type": "code",
     "collapsed": false,
     "input": [
      "%%R\n",
      "df = function(mydata) {\n",
      "    print(cov(riskpremium(mydata), riskpremium(SP500)) / var(riskpremium(SP500)))\n",
      "    print(fit <- lm(riskpremium(mydata) ~ riskpremium(SP500)))\n",
      "    plot(riskpremium(SP500), riskpremium(mydata))\n",
      "    abline(fit, col = 'red')\n",
      "    fit <- lm(riskpremium(mydata) ~ -1 + riskpremium(SP500))\n",
      "    print(summary(fit))\n",
      "    print(summary(lm(riskpremium(mydata) ~ riskpremium(SP500))))\n",
      "    par(mfrow = c(2, 2))\n",
      "    plot(fit)\n",
      "    }"
     ],
     "language": "python",
     "metadata": {},
     "outputs": [],
     "prompt_number": 13
    },
    {
     "cell_type": "code",
     "collapsed": false,
     "input": [
      "%%R\n",
      "par(mfrow=c(3,2))\n",
      "jpeg('../visualizations/RA_GOOG.jpg')\n",
      "df(GOOG)\n",
      "dev.off()"
     ],
     "language": "python",
     "metadata": {},
     "outputs": [
      {
       "metadata": {},
       "output_type": "display_data",
       "text": [
        "[1] 0.9036548\n",
        "\n",
        "Call:\n",
        "lm(formula = riskpremium(mydata) ~ riskpremium(SP500))\n",
        "\n",
        "Coefficients:\n",
        "       (Intercept)  riskpremium(SP500)  \n",
        "         0.0004061           0.9036548  \n",
        "\n",
        "\n",
        "Call:\n",
        "lm(formula = riskpremium(mydata) ~ -1 + riskpremium(SP500))\n",
        "\n",
        "Residuals:\n",
        "      Min        1Q    Median        3Q       Max \n",
        "-0.103095 -0.005955 -0.000087  0.005963  0.165996 \n",
        "\n",
        "Coefficients:\n",
        "                   Estimate Std. Error t value Pr(>|t|)    \n",
        "riskpremium(SP500)  0.90401    0.02458   36.78   <2e-16 ***\n",
        "---\n",
        "Signif. codes:  0 \u2018***\u2019 0.001 \u2018**\u2019 0.01 \u2018*\u2019 0.05 \u2018.\u2019 0.1 \u2018 \u2019 1\n",
        "\n",
        "Residual standard error: 0.01452 on 1502 degrees of freedom\n",
        "Multiple R-squared:  0.4738,\tAdjusted R-squared:  0.4735 \n",
        "F-statistic:  1353 on 1 and 1502 DF,  p-value: < 2.2e-16\n",
        "\n",
        "\n",
        "Call:\n",
        "lm(formula = riskpremium(mydata) ~ riskpremium(SP500))\n",
        "\n",
        "Residuals:\n",
        "      Min        1Q    Median        3Q       Max \n",
        "-0.103501 -0.006362 -0.000494  0.005553  0.165596 \n",
        "\n",
        "Coefficients:\n",
        "                    Estimate Std. Error t value Pr(>|t|)    \n",
        "(Intercept)        0.0004061  0.0003746   1.084    0.279    \n",
        "riskpremium(SP500) 0.9036548  0.0245819  36.761   <2e-16 ***\n",
        "---\n",
        "Signif. codes:  0 \u2018***\u2019 0.001 \u2018**\u2019 0.01 \u2018*\u2019 0.05 \u2018.\u2019 0.1 \u2018 \u2019 1\n",
        "\n",
        "Residual standard error: 0.01452 on 1501 degrees of freedom\n",
        "Multiple R-squared:  0.4738,\tAdjusted R-squared:  0.4734 \n",
        "F-statistic:  1351 on 1 and 1501 DF,  p-value: < 2.2e-16\n",
        "\n"
       ]
      }
     ],
     "prompt_number": 24
    },
    {
     "cell_type": "code",
     "collapsed": false,
     "input": [
      "%%R\n",
      "par(mfrow=c(3,2))\n",
      "jpeg('../visualizations/RA_AAPL.jpg')\n",
      "df(AAPL)\n",
      "dev.off()"
     ],
     "language": "python",
     "metadata": {},
     "outputs": [
      {
       "metadata": {},
       "output_type": "display_data",
       "text": [
        "[1] 0.9054634\n",
        "\n",
        "Call:\n",
        "lm(formula = riskpremium(mydata) ~ riskpremium(SP500))\n",
        "\n",
        "Coefficients:\n",
        "       (Intercept)  riskpremium(SP500)  \n",
        "         0.0006921           0.9054634  \n",
        "\n",
        "\n",
        "Call:\n",
        "lm(formula = riskpremium(mydata) ~ -1 + riskpremium(SP500))\n",
        "\n",
        "Residuals:\n",
        "      Min        1Q    Median        3Q       Max \n",
        "-0.131880 -0.007514  0.000549  0.009247  0.114156 \n",
        "\n",
        "Coefficients:\n",
        "                   Estimate Std. Error t value Pr(>|t|)    \n",
        "riskpremium(SP500)  0.90607    0.02828   32.04   <2e-16 ***\n",
        "---\n",
        "Signif. codes:  0 \u2018***\u2019 0.001 \u2018**\u2019 0.01 \u2018*\u2019 0.05 \u2018.\u2019 0.1 \u2018 \u2019 1\n",
        "\n",
        "Residual standard error: 0.01671 on 1502 degrees of freedom\n",
        "Multiple R-squared:  0.406,\tAdjusted R-squared:  0.4056 \n",
        "F-statistic:  1027 on 1 and 1502 DF,  p-value: < 2.2e-16\n",
        "\n",
        "\n",
        "Call:\n",
        "lm(formula = riskpremium(mydata) ~ riskpremium(SP500))\n",
        "\n",
        "Residuals:\n",
        "      Min        1Q    Median        3Q       Max \n",
        "-0.132572 -0.008216 -0.000143  0.008565  0.113426 \n",
        "\n",
        "Coefficients:\n",
        "                    Estimate Std. Error t value Pr(>|t|)    \n",
        "(Intercept)        0.0006921  0.0004308   1.607    0.108    \n",
        "riskpremium(SP500) 0.9054634  0.0282656  32.034   <2e-16 ***\n",
        "---\n",
        "Signif. codes:  0 \u2018***\u2019 0.001 \u2018**\u2019 0.01 \u2018*\u2019 0.05 \u2018.\u2019 0.1 \u2018 \u2019 1\n",
        "\n",
        "Residual standard error: 0.0167 on 1501 degrees of freedom\n",
        "Multiple R-squared:  0.4061,\tAdjusted R-squared:  0.4057 \n",
        "F-statistic:  1026 on 1 and 1501 DF,  p-value: < 2.2e-16\n",
        "\n"
       ]
      }
     ],
     "prompt_number": 25
    },
    {
     "cell_type": "code",
     "collapsed": false,
     "input": [
      "%%R\n",
      "par(mfrow=c(3,2))\n",
      "jpeg('../visualizations/RA_AMZN.jpg')\n",
      "df(AMZN)\n",
      "dev.off()"
     ],
     "language": "python",
     "metadata": {},
     "outputs": [
      {
       "metadata": {},
       "output_type": "display_data",
       "text": [
        "[1] 1.055875\n",
        "\n",
        "Call:\n",
        "lm(formula = riskpremium(mydata) ~ riskpremium(SP500))\n",
        "\n",
        "Coefficients:\n",
        "       (Intercept)  riskpremium(SP500)  \n",
        "         0.0007895           1.0558746  \n",
        "\n",
        "\n",
        "Call:\n",
        "lm(formula = riskpremium(mydata) ~ -1 + riskpremium(SP500))\n",
        "\n",
        "Residuals:\n",
        "      Min        1Q    Median        3Q       Max \n",
        "-0.146399 -0.008919 -0.000152  0.009749  0.250349 \n",
        "\n",
        "Coefficients:\n",
        "                   Estimate Std. Error t value Pr(>|t|)    \n",
        "riskpremium(SP500)  1.05657    0.03591   29.42   <2e-16 ***\n",
        "---\n",
        "Signif. codes:  0 \u2018***\u2019 0.001 \u2018**\u2019 0.01 \u2018*\u2019 0.05 \u2018.\u2019 0.1 \u2018 \u2019 1\n",
        "\n",
        "Residual standard error: 0.02122 on 1502 degrees of freedom\n",
        "Multiple R-squared:  0.3656,\tAdjusted R-squared:  0.3652 \n",
        "F-statistic: 865.6 on 1 and 1502 DF,  p-value: < 2.2e-16\n",
        "\n",
        "\n",
        "Call:\n",
        "lm(formula = riskpremium(mydata) ~ riskpremium(SP500))\n",
        "\n",
        "Residuals:\n",
        "      Min        1Q    Median        3Q       Max \n",
        "-0.147182 -0.009708 -0.000929  0.008961  0.249551 \n",
        "\n",
        "Coefficients:\n",
        "                    Estimate Std. Error t value Pr(>|t|)    \n",
        "(Intercept)        0.0007895  0.0005471   1.443    0.149    \n",
        "riskpremium(SP500) 1.0558746  0.0359012  29.411   <2e-16 ***\n",
        "---\n",
        "Signif. codes:  0 \u2018***\u2019 0.001 \u2018**\u2019 0.01 \u2018*\u2019 0.05 \u2018.\u2019 0.1 \u2018 \u2019 1\n",
        "\n",
        "Residual standard error: 0.02121 on 1501 degrees of freedom\n",
        "Multiple R-squared:  0.3656,\tAdjusted R-squared:  0.3652 \n",
        "F-statistic:   865 on 1 and 1501 DF,  p-value: < 2.2e-16\n",
        "\n"
       ]
      }
     ],
     "prompt_number": 26
    },
    {
     "cell_type": "heading",
     "level": 3,
     "metadata": {},
     "source": [
      "Risk Analysis -- Retail Industry"
     ]
    },
    {
     "cell_type": "code",
     "collapsed": false,
     "input": [
      "%load_ext rmagic"
     ],
     "language": "python",
     "metadata": {},
     "outputs": [
      {
       "output_type": "stream",
       "stream": "stdout",
       "text": [
        "The rmagic extension is already loaded. To reload it, use:\n",
        "  %reload_ext rmagic\n"
       ]
      }
     ],
     "prompt_number": 28
    },
    {
     "cell_type": "code",
     "collapsed": false,
     "input": [
      "%%R\n",
      "COST <-read.csv(file=\"../data/cleaned/dcost.csv\",head=TRUE,sep=\",\")\n",
      "WMT <-read.csv(file=\"../data/cleaned/dwmt.csv\",head=TRUE,sep=\",\")\n",
      "WAG <-read.csv(file=\"../data/cleaned/dwag.csv\",head=TRUE,sep=\",\")"
     ],
     "language": "python",
     "metadata": {},
     "outputs": [],
     "prompt_number": 29
    },
    {
     "cell_type": "code",
     "collapsed": false,
     "input": [
      "%%R\n",
      "str(COST)\n",
      "str(WMT)\n",
      "str(WAG)"
     ],
     "language": "python",
     "metadata": {},
     "outputs": [
      {
       "metadata": {},
       "output_type": "display_data",
       "text": [
        "'data.frame':\t1512 obs. of  2 variables:\n",
        " $ Date     : chr  \"2008-03-31\" \"2008-04-01\" \"2008-04-02\" \"2008-04-03\" ...\n",
        " $ Adj.Close: num  56.5 57.8 57.6 58.1 57.7 ...\n",
        "'data.frame':\t1512 obs. of  2 variables:\n",
        " $ Date     : chr  \"2008-03-31\" \"2008-04-01\" \"2008-04-02\" \"2008-04-03\" ...\n",
        " $ Adj.Close: num  45.9 47.1 47.4 47.8 47.4 ...\n",
        "'data.frame':\t1512 obs. of  2 variables:\n",
        " $ Date     : chr  \"2008-03-31\" \"2008-04-01\" \"2008-04-02\" \"2008-04-03\" ...\n",
        " $ Adj.Close: num  33.6 34.4 33.7 33.7 33.5 ...\n"
       ]
      }
     ],
     "prompt_number": 30
    },
    {
     "cell_type": "code",
     "collapsed": false,
     "input": [
      "%%R\n",
      "COST <- COST$Adj.Close\n",
      "WMT <- WMT$Adj.Close\n",
      "WAG <- WAG$Adj.Close"
     ],
     "language": "python",
     "metadata": {},
     "outputs": [],
     "prompt_number": 31
    },
    {
     "cell_type": "code",
     "collapsed": false,
     "input": [
      "%%R\n",
      "print(sapply(list(COST, SP500, LIBOR), length))\n",
      "print(sapply(list(WMT, SP500, LIBOR), length))\n",
      "print(sapply(list(WAG, SP500, LIBOR), length))"
     ],
     "language": "python",
     "metadata": {},
     "outputs": [
      {
       "metadata": {},
       "output_type": "display_data",
       "text": [
        "[1] 1512 1504 1504\n",
        "[1] 1512 1504 1504\n",
        "[1] 1512 1504 1504\n"
       ]
      }
     ],
     "prompt_number": 32
    },
    {
     "cell_type": "code",
     "collapsed": false,
     "input": [
      "%%R\n",
      "options(stringsAsFactors = FALSE)\n",
      "SP500<- read.csv(file=\"../data/cleaned/dsp500.csv\",head=TRUE,sep=\",\")\n",
      "LIBOR<-read.csv(file=\"../data/cleaned/libor.csv\",head=TRUE,sep=\",\")\n",
      "COST <-read.csv(file=\"../data/cleaned/dcost.csv\",head=TRUE,sep=\",\")\n",
      "WMT <-read.csv(file=\"../data/cleaned/dwmt.csv\",head=TRUE,sep=\",\")\n",
      "WAG <-read.csv(file=\"../data/cleaned/dwag.csv\",head=TRUE,sep=\",\")"
     ],
     "language": "python",
     "metadata": {},
     "outputs": [],
     "prompt_number": 33
    },
    {
     "cell_type": "code",
     "collapsed": false,
     "input": [
      "%%R\n",
      "cdates2 <- Reduce(intersect, list(COST$Date,SP500$Date,LIBOR$Time))\n",
      "cdates3 <- Reduce(intersect, list(WMT$Date,SP500$Date,LIBOR$Time))\n",
      "cdates4 <- Reduce(intersect, list(WAG$Date,SP500$Date,LIBOR$Time))\n",
      "print(head(cdates1))\n",
      "newtimes <- as.POSIXct(cdates2, format = \"%Y-%m-%d\")\n",
      "newtimes <- as.POSIXct(cdates3, format = \"%Y-%m-%d\")\n",
      "newtimes <- as.POSIXct(cdates4, format = \"%Y-%m-%d\")\n",
      "print(head(newtimes))\n",
      "print(head(as.numeric(diff(newtimes))))"
     ],
     "language": "python",
     "metadata": {},
     "outputs": [
      {
       "metadata": {},
       "output_type": "display_data",
       "text": [
        "[1] \"2008-03-31\" \"2008-04-01\" \"2008-04-02\" \"2008-04-03\" \"2008-04-04\"\n",
        "[6] \"2008-04-07\"\n",
        "[1] \"2008-03-31 PDT\" \"2008-04-01 PDT\" \"2008-04-02 PDT\" \"2008-04-03 PDT\"\n",
        "[5] \"2008-04-04 PDT\" \"2008-04-07 PDT\"\n",
        "[1] 1 1 1 1 3 1\n"
       ]
      }
     ],
     "prompt_number": 34
    },
    {
     "cell_type": "code",
     "collapsed": false,
     "input": [
      "%%R\n",
      "COST   <- COST[COST$Date %in% cdates2, 'Adj.Close']\n",
      "WMT  <- WMT[WMT$Date %in% cdates3, 'Adj.Close']\n",
      "WAG  <- WAG[WAG$Date %in% cdates4, 'Adj.Close']\n",
      "SP500  <- SP500[SP500$Date %in% cdates1, 'Adj.Close']\n",
      "LIBOR  <- LIBOR[LIBOR$Time %in% cdates1, 'X1.Month.Rate']"
     ],
     "language": "python",
     "metadata": {},
     "outputs": [],
     "prompt_number": 35
    },
    {
     "cell_type": "code",
     "collapsed": false,
     "input": [
      "%%R\n",
      "logreturn <- function(x) log(tail(x, -1) / head(x, -1))"
     ],
     "language": "python",
     "metadata": {},
     "outputs": [],
     "prompt_number": 36
    },
    {
     "cell_type": "code",
     "collapsed": false,
     "input": [
      "%%R\n",
      "rft <- log(1 + head(LIBOR, -1)/36000 * as.numeric(diff(newtimes)))\n",
      "str(rft)"
     ],
     "language": "python",
     "metadata": {},
     "outputs": [
      {
       "metadata": {},
       "output_type": "display_data",
       "text": [
        " num [1:1503] 8.33e-05 8.33e-05 8.33e-05 8.33e-05 2.50e-04 ...\n"
       ]
      }
     ],
     "prompt_number": 37
    },
    {
     "cell_type": "code",
     "collapsed": false,
     "input": [
      "%%R\n",
      "riskpremium <- function(x) logreturn(x) - rft"
     ],
     "language": "python",
     "metadata": {},
     "outputs": [],
     "prompt_number": 38
    },
    {
     "cell_type": "code",
     "collapsed": false,
     "input": [
      "%%R\n",
      "df = function(mydata) {\n",
      "    print(cov(riskpremium(mydata), riskpremium(SP500)) / var(riskpremium(SP500)))\n",
      "    print(fit <- lm(riskpremium(mydata) ~ riskpremium(SP500)))\n",
      "    plot(riskpremium(SP500), riskpremium(mydata))\n",
      "    abline(fit, col = 'red')\n",
      "    fit <- lm(riskpremium(mydata) ~ -1 + riskpremium(SP500))\n",
      "    print(summary(fit))\n",
      "    print(summary(lm(riskpremium(mydata) ~ riskpremium(SP500))))\n",
      "    par(mfrow = c(2, 2))\n",
      "    plot(fit)\n",
      "    }"
     ],
     "language": "python",
     "metadata": {},
     "outputs": [],
     "prompt_number": 39
    },
    {
     "cell_type": "code",
     "collapsed": false,
     "input": [
      "%%R\n",
      "par(mfrow=c(3,2))\n",
      "jpeg('../visualizations/RA_COST.jpg')\n",
      "df(COST)\n",
      "dev.off()"
     ],
     "language": "python",
     "metadata": {},
     "outputs": [
      {
       "metadata": {},
       "output_type": "display_data",
       "text": [
        "[1] 0.6679392\n",
        "\n",
        "Call:\n",
        "lm(formula = riskpremium(mydata) ~ riskpremium(SP500))\n",
        "\n",
        "Coefficients:\n",
        "       (Intercept)  riskpremium(SP500)  \n",
        "         0.0002904           0.6679392  \n",
        "\n",
        "\n",
        "Call:\n",
        "lm(formula = riskpremium(mydata) ~ -1 + riskpremium(SP500))\n",
        "\n",
        "Residuals:\n",
        "      Min        1Q    Median        3Q       Max \n",
        "-0.129590 -0.005420 -0.000050  0.005858  0.076467 \n",
        "\n",
        "Coefficients:\n",
        "                   Estimate Std. Error t value Pr(>|t|)    \n",
        "riskpremium(SP500)  0.66819    0.01936   34.51   <2e-16 ***\n",
        "---\n",
        "Signif. codes:  0 \u2018***\u2019 0.001 \u2018**\u2019 0.01 \u2018*\u2019 0.05 \u2018.\u2019 0.1 \u2018 \u2019 1\n",
        "\n",
        "Residual standard error: 0.01144 on 1502 degrees of freedom\n",
        "Multiple R-squared:  0.4423,\tAdjusted R-squared:  0.4419 \n",
        "F-statistic:  1191 on 1 and 1502 DF,  p-value: < 2.2e-16\n",
        "\n",
        "\n",
        "Call:\n",
        "lm(formula = riskpremium(mydata) ~ riskpremium(SP500))\n",
        "\n",
        "Residuals:\n",
        "      Min        1Q    Median        3Q       Max \n",
        "-0.129879 -0.005713 -0.000337  0.005568  0.076179 \n",
        "\n",
        "Coefficients:\n",
        "                    Estimate Std. Error t value Pr(>|t|)    \n",
        "(Intercept)        0.0002904  0.0002951   0.984    0.325    \n",
        "riskpremium(SP500) 0.6679392  0.0193618  34.498   <2e-16 ***\n",
        "---\n",
        "Signif. codes:  0 \u2018***\u2019 0.001 \u2018**\u2019 0.01 \u2018*\u2019 0.05 \u2018.\u2019 0.1 \u2018 \u2019 1\n",
        "\n",
        "Residual standard error: 0.01144 on 1501 degrees of freedom\n",
        "Multiple R-squared:  0.4422,\tAdjusted R-squared:  0.4419 \n",
        "F-statistic:  1190 on 1 and 1501 DF,  p-value: < 2.2e-16\n",
        "\n"
       ]
      }
     ],
     "prompt_number": 40
    },
    {
     "cell_type": "code",
     "collapsed": false,
     "input": [
      "%%R\n",
      "par(mfrow=c(3,2))\n",
      "jpeg('../visualizations/RA_WMT.jpg')\n",
      "df(WMT)\n",
      "dev.off()"
     ],
     "language": "python",
     "metadata": {},
     "outputs": [
      {
       "metadata": {},
       "output_type": "display_data",
       "text": [
        "[1] 0.4856383\n",
        "\n",
        "Call:\n",
        "lm(formula = riskpremium(mydata) ~ riskpremium(SP500))\n",
        "\n",
        "Coefficients:\n",
        "       (Intercept)  riskpremium(SP500)  \n",
        "         0.0002136           0.4856383  \n",
        "\n",
        "\n",
        "Call:\n",
        "lm(formula = riskpremium(mydata) ~ -1 + riskpremium(SP500))\n",
        "\n",
        "Residuals:\n",
        "      Min        1Q    Median        3Q       Max \n",
        "-0.079596 -0.004736 -0.000136  0.005121  0.067069 \n",
        "\n",
        "Coefficients:\n",
        "                   Estimate Std. Error t value Pr(>|t|)    \n",
        "riskpremium(SP500)  0.48583    0.01727   28.13   <2e-16 ***\n",
        "---\n",
        "Signif. codes:  0 \u2018***\u2019 0.001 \u2018**\u2019 0.01 \u2018*\u2019 0.05 \u2018.\u2019 0.1 \u2018 \u2019 1\n",
        "\n",
        "Residual standard error: 0.0102 on 1502 degrees of freedom\n",
        "Multiple R-squared:  0.3451,\tAdjusted R-squared:  0.3446 \n",
        "F-statistic: 791.4 on 1 and 1502 DF,  p-value: < 2.2e-16\n",
        "\n",
        "\n",
        "Call:\n",
        "lm(formula = riskpremium(mydata) ~ riskpremium(SP500))\n",
        "\n",
        "Residuals:\n",
        "      Min        1Q    Median        3Q       Max \n",
        "-0.079809 -0.004951 -0.000348  0.004905  0.066863 \n",
        "\n",
        "Coefficients:\n",
        "                    Estimate Std. Error t value Pr(>|t|)    \n",
        "(Intercept)        0.0002136  0.0002632   0.812    0.417    \n",
        "riskpremium(SP500) 0.4856383  0.0172732  28.115   <2e-16 ***\n",
        "---\n",
        "Signif. codes:  0 \u2018***\u2019 0.001 \u2018**\u2019 0.01 \u2018*\u2019 0.05 \u2018.\u2019 0.1 \u2018 \u2019 1\n",
        "\n",
        "Residual standard error: 0.0102 on 1501 degrees of freedom\n",
        "Multiple R-squared:  0.345,\tAdjusted R-squared:  0.3445 \n",
        "F-statistic: 790.5 on 1 and 1501 DF,  p-value: < 2.2e-16\n",
        "\n"
       ]
      }
     ],
     "prompt_number": 75
    },
    {
     "cell_type": "code",
     "collapsed": false,
     "input": [
      "%%R\n",
      "par(mfrow=c(3,2))\n",
      "jpeg('../visualizations/RA_WAG.jpg')\n",
      "df(WAG)\n",
      "dev.off()"
     ],
     "language": "python",
     "metadata": {},
     "outputs": [
      {
       "output_type": "stream",
       "stream": "stdout",
       "text": [
        "Error in tail(x, -1) : object 'WMG' not found\n"
       ]
      }
     ],
     "prompt_number": 74
    },
    {
     "cell_type": "heading",
     "level": 3,
     "metadata": {},
     "source": [
      "Risk Analysis -- Financial industry (BANK)"
     ]
    },
    {
     "cell_type": "code",
     "collapsed": false,
     "input": [
      "%%R\n",
      "WFC <-read.csv(file=\"../data/cleaned/dwfc.csv\",head=TRUE,sep=\",\")\n",
      "JPM <-read.csv(file=\"../data/cleaned/djpm.csv\",head=TRUE,sep=\",\")\n",
      "OZRK <-read.csv(file=\"../data/cleaned/dozrk.csv\",head=TRUE,sep=\",\")"
     ],
     "language": "python",
     "metadata": {},
     "outputs": [],
     "prompt_number": 43
    },
    {
     "cell_type": "code",
     "collapsed": false,
     "input": [
      "%%R\n",
      "str(WFC)\n",
      "str(JPM)\n",
      "str(OZRK)"
     ],
     "language": "python",
     "metadata": {},
     "outputs": [
      {
       "metadata": {},
       "output_type": "display_data",
       "text": [
        "'data.frame':\t1512 obs. of  2 variables:\n",
        " $ Date     : chr  \"2008-03-31\" \"2008-04-01\" \"2008-04-02\" \"2008-04-03\" ...\n",
        " $ Adj.Close: num  25.3 27.4 26.5 26.7 26.9 ...\n",
        "'data.frame':\t1512 obs. of  2 variables:\n",
        " $ Date     : chr  \"2008-03-31\" \"2008-04-01\" \"2008-04-02\" \"2008-04-03\" ...\n",
        " $ Adj.Close: num  37.4 40.9 40.5 40.6 40 ...\n",
        "'data.frame':\t1512 obs. of  2 variables:\n",
        " $ Date     : chr  \"2008-03-31\" \"2008-04-01\" \"2008-04-02\" \"2008-04-03\" ...\n",
        " $ Adj.Close: num  10.7 10.8 10.8 10.7 10.5 ...\n"
       ]
      }
     ],
     "prompt_number": 44
    },
    {
     "cell_type": "code",
     "collapsed": false,
     "input": [
      "%%R\n",
      "WFC <- WFC$Adj.Close\n",
      "JPM <- JPM$Adj.Close\n",
      "OZRK <- OZRK$Adj.Close"
     ],
     "language": "python",
     "metadata": {},
     "outputs": [],
     "prompt_number": 45
    },
    {
     "cell_type": "code",
     "collapsed": false,
     "input": [
      "%%R\n",
      "print(sapply(list(WFC, SP500, LIBOR), length))\n",
      "print(sapply(list(JPM, SP500, LIBOR), length))\n",
      "print(sapply(list(OZRK, SP500, LIBOR), length))"
     ],
     "language": "python",
     "metadata": {},
     "outputs": [
      {
       "metadata": {},
       "output_type": "display_data",
       "text": [
        "[1] 1512 1504 1504\n",
        "[1] 1512 1504 1504\n",
        "[1] 1512 1504 1504\n"
       ]
      }
     ],
     "prompt_number": 46
    },
    {
     "cell_type": "code",
     "collapsed": false,
     "input": [
      "%%R\n",
      "options(stringsAsFactors = FALSE)\n",
      "SP500<- read.csv(file=\"../data/cleaned/dsp500.csv\",head=TRUE,sep=\",\")\n",
      "LIBOR<-read.csv(file=\"../data/cleaned/libor.csv\",head=TRUE,sep=\",\")\n",
      "WFC <-read.csv(file=\"../data/cleaned/dwfc.csv\",head=TRUE,sep=\",\")\n",
      "JPM <-read.csv(file=\"../data/cleaned/djpm.csv\",head=TRUE,sep=\",\")\n",
      "OZRK <-read.csv(file=\"../data/cleaned/dozrk.csv\",head=TRUE,sep=\",\")"
     ],
     "language": "python",
     "metadata": {},
     "outputs": [],
     "prompt_number": 47
    },
    {
     "cell_type": "code",
     "collapsed": false,
     "input": [
      "%%R\n",
      "cdates2 <- Reduce(intersect, list(WFC$Date,SP500$Date,LIBOR$Time))\n",
      "cdates4 <- Reduce(intersect, list(JPM$Date,SP500$Date,LIBOR$Time))\n",
      "cdates5 <- Reduce(intersect, list(OZRK$Date,SP500$Date,LIBOR$Time))\n",
      "print(head(cdates1))\n",
      "newtimes <- as.POSIXct(cdates2, format = \"%Y-%m-%d\")\n",
      "newtimes <- as.POSIXct(cdates4, format = \"%Y-%m-%d\")\n",
      "newtimes <- as.POSIXct(cdates5, format = \"%Y-%m-%d\")\n",
      "print(head(newtimes))\n",
      "print(head(as.numeric(diff(newtimes))))"
     ],
     "language": "python",
     "metadata": {},
     "outputs": [
      {
       "metadata": {},
       "output_type": "display_data",
       "text": [
        "[1] \"2008-03-31\" \"2008-04-01\" \"2008-04-02\" \"2008-04-03\" \"2008-04-04\"\n",
        "[6] \"2008-04-07\"\n",
        "[1] \"2008-03-31 PDT\" \"2008-04-01 PDT\" \"2008-04-02 PDT\" \"2008-04-03 PDT\"\n",
        "[5] \"2008-04-04 PDT\" \"2008-04-07 PDT\"\n",
        "[1] 1 1 1 1 3 1\n"
       ]
      }
     ],
     "prompt_number": 48
    },
    {
     "cell_type": "code",
     "collapsed": false,
     "input": [
      "%%R\n",
      "WFC   <- WFC[WFC$Date %in% cdates2, 'Adj.Close']\n",
      "\n",
      "JPM <- JPM[JPM$Date %in% cdates4, 'Adj.Close']\n",
      "OZRK  <- OZRK[OZRK$Date %in% cdates5, 'Adj.Close']\n",
      "SP500  <- SP500[SP500$Date %in% cdates1, 'Adj.Close']\n",
      "LIBOR  <- LIBOR[LIBOR$Time %in% cdates1, 'X1.Month.Rate']"
     ],
     "language": "python",
     "metadata": {},
     "outputs": [],
     "prompt_number": 49
    },
    {
     "cell_type": "code",
     "collapsed": false,
     "input": [
      "%%R\n",
      "logreturn <- function(x) log(tail(x, -1) / head(x, -1))"
     ],
     "language": "python",
     "metadata": {},
     "outputs": [],
     "prompt_number": 50
    },
    {
     "cell_type": "code",
     "collapsed": false,
     "input": [
      "%%R\n",
      "rft <- log(1 + head(LIBOR, -1)/36000 * as.numeric(diff(newtimes)))\n",
      "str(rft)"
     ],
     "language": "python",
     "metadata": {},
     "outputs": [
      {
       "metadata": {},
       "output_type": "display_data",
       "text": [
        " num [1:1503] 8.33e-05 8.33e-05 8.33e-05 8.33e-05 2.50e-04 ...\n"
       ]
      }
     ],
     "prompt_number": 51
    },
    {
     "cell_type": "code",
     "collapsed": false,
     "input": [
      "%%R\n",
      "riskpremium <- function(x) logreturn(x) - rft"
     ],
     "language": "python",
     "metadata": {},
     "outputs": [],
     "prompt_number": 52
    },
    {
     "cell_type": "code",
     "collapsed": false,
     "input": [
      "%%R\n",
      "df = function(mydata) {\n",
      "    print(cov(riskpremium(mydata), riskpremium(SP500)) / var(riskpremium(SP500)))\n",
      "    print(fit <- lm(riskpremium(mydata) ~ riskpremium(SP500)))\n",
      "    plot(riskpremium(SP500), riskpremium(mydata))\n",
      "    abline(fit, col = 'red')\n",
      "    fit <- lm(riskpremium(mydata) ~ -1 + riskpremium(SP500))\n",
      "    print(summary(fit))\n",
      "    print(summary(lm(riskpremium(mydata) ~ riskpremium(SP500))))\n",
      "    par(mfrow = c(2, 2))\n",
      "    plot(fit)\n",
      "    }"
     ],
     "language": "python",
     "metadata": {},
     "outputs": [],
     "prompt_number": 53
    },
    {
     "cell_type": "code",
     "collapsed": false,
     "input": [
      "%%R\n",
      "par(mfrow=c(3,2))\n",
      "jpeg('../visualizations/RA_WFC.jpg')\n",
      "df(WFC)\n",
      "dev.off()"
     ],
     "language": "python",
     "metadata": {},
     "outputs": [
      {
       "metadata": {},
       "output_type": "display_data",
       "text": [
        "[1] 1.729443\n",
        "\n",
        "Call:\n",
        "lm(formula = riskpremium(mydata) ~ riskpremium(SP500))\n",
        "\n",
        "Coefficients:\n",
        "       (Intercept)  riskpremium(SP500)  \n",
        "         7.064e-05           1.729e+00  \n",
        "\n",
        "\n",
        "Call:\n",
        "lm(formula = riskpremium(mydata) ~ -1 + riskpremium(SP500))\n",
        "\n",
        "Residuals:\n",
        "      Min        1Q    Median        3Q       Max \n",
        "-0.178529 -0.008708 -0.000703  0.007673  0.240884 \n",
        "\n",
        "Coefficients:\n",
        "                   Estimate Std. Error t value Pr(>|t|)    \n",
        "riskpremium(SP500)  1.72950    0.04272   40.49   <2e-16 ***\n",
        "---\n",
        "Signif. codes:  0 \u2018***\u2019 0.001 \u2018**\u2019 0.01 \u2018*\u2019 0.05 \u2018.\u2019 0.1 \u2018 \u2019 1\n",
        "\n",
        "Residual standard error: 0.02524 on 1502 degrees of freedom\n",
        "Multiple R-squared:  0.5218,\tAdjusted R-squared:  0.5215 \n",
        "F-statistic:  1639 on 1 and 1502 DF,  p-value: < 2.2e-16\n",
        "\n",
        "\n",
        "Call:\n",
        "lm(formula = riskpremium(mydata) ~ riskpremium(SP500))\n",
        "\n",
        "Residuals:\n",
        "      Min        1Q    Median        3Q       Max \n",
        "-0.178603 -0.008778 -0.000773  0.007603  0.240815 \n",
        "\n",
        "Coefficients:\n",
        "                    Estimate Std. Error t value Pr(>|t|)    \n",
        "(Intercept)        7.064e-05  6.513e-04   0.108    0.914    \n",
        "riskpremium(SP500) 1.729e+00  4.274e-02  40.467   <2e-16 ***\n",
        "---\n",
        "Signif. codes:  0 \u2018***\u2019 0.001 \u2018**\u2019 0.01 \u2018*\u2019 0.05 \u2018.\u2019 0.1 \u2018 \u2019 1\n",
        "\n",
        "Residual standard error: 0.02525 on 1501 degrees of freedom\n",
        "Multiple R-squared:  0.5218,\tAdjusted R-squared:  0.5214 \n",
        "F-statistic:  1638 on 1 and 1501 DF,  p-value: < 2.2e-16\n",
        "\n"
       ]
      }
     ],
     "prompt_number": 55
    },
    {
     "cell_type": "code",
     "collapsed": false,
     "input": [
      "%%R\n",
      "par(mfrow=c(3,2))\n",
      "jpeg('../visualizations/RA_JPM.jpg')\n",
      "df(JPM)\n",
      "dev.off()"
     ],
     "language": "python",
     "metadata": {},
     "outputs": [
      {
       "metadata": {},
       "output_type": "display_data",
       "text": [
        "[1] 1.644332\n",
        "\n",
        "Call:\n",
        "lm(formula = riskpremium(mydata) ~ riskpremium(SP500))\n",
        "\n",
        "Coefficients:\n",
        "       (Intercept)  riskpremium(SP500)  \n",
        "        -4.354e-05           1.644e+00  \n",
        "\n",
        "\n",
        "Call:\n",
        "lm(formula = riskpremium(mydata) ~ -1 + riskpremium(SP500))\n",
        "\n",
        "Residuals:\n",
        "      Min        1Q    Median        3Q       Max \n",
        "-0.193529 -0.008685 -0.000818  0.007896  0.153649 \n",
        "\n",
        "Coefficients:\n",
        "                   Estimate Std. Error t value Pr(>|t|)    \n",
        "riskpremium(SP500)   1.6443     0.0366   44.92   <2e-16 ***\n",
        "---\n",
        "Signif. codes:  0 \u2018***\u2019 0.001 \u2018**\u2019 0.01 \u2018*\u2019 0.05 \u2018.\u2019 0.1 \u2018 \u2019 1\n",
        "\n",
        "Residual standard error: 0.02163 on 1502 degrees of freedom\n",
        "Multiple R-squared:  0.5733,\tAdjusted R-squared:  0.573 \n",
        "F-statistic:  2018 on 1 and 1502 DF,  p-value: < 2.2e-16\n",
        "\n",
        "\n",
        "Call:\n",
        "lm(formula = riskpremium(mydata) ~ riskpremium(SP500))\n",
        "\n",
        "Residuals:\n",
        "      Min        1Q    Median        3Q       Max \n",
        "-0.193489 -0.008642 -0.000774  0.007939  0.153691 \n",
        "\n",
        "Coefficients:\n",
        "                     Estimate Std. Error t value Pr(>|t|)    \n",
        "(Intercept)        -4.354e-05  5.580e-04  -0.078    0.938    \n",
        "riskpremium(SP500)  1.644e+00  3.662e-02  44.907   <2e-16 ***\n",
        "---\n",
        "Signif. codes:  0 \u2018***\u2019 0.001 \u2018**\u2019 0.01 \u2018*\u2019 0.05 \u2018.\u2019 0.1 \u2018 \u2019 1\n",
        "\n",
        "Residual standard error: 0.02163 on 1501 degrees of freedom\n",
        "Multiple R-squared:  0.5733,\tAdjusted R-squared:  0.573 \n",
        "F-statistic:  2017 on 1 and 1501 DF,  p-value: < 2.2e-16\n",
        "\n"
       ]
      }
     ],
     "prompt_number": 56
    },
    {
     "cell_type": "code",
     "collapsed": false,
     "input": [
      "%%R\n",
      "par(mfrow=c(3,2))\n",
      "jpeg('../visualizations/RA_OZRK.jpg')\n",
      "df(OZRK)\n",
      "dev.off()"
     ],
     "language": "python",
     "metadata": {},
     "outputs": [
      {
       "metadata": {},
       "output_type": "display_data",
       "text": [
        "[1] 0.8586125\n",
        "\n",
        "Call:\n",
        "lm(formula = riskpremium(mydata) ~ riskpremium(SP500))\n",
        "\n",
        "Coefficients:\n",
        "       (Intercept)  riskpremium(SP500)  \n",
        "          0.001027            0.858613  \n",
        "\n",
        "\n",
        "Call:\n",
        "lm(formula = riskpremium(mydata) ~ -1 + riskpremium(SP500))\n",
        "\n",
        "Residuals:\n",
        "      Min        1Q    Median        3Q       Max \n",
        "-0.112681 -0.007431  0.000694  0.009154  0.141153 \n",
        "\n",
        "Coefficients:\n",
        "                   Estimate Std. Error t value Pr(>|t|)    \n",
        "riskpremium(SP500)  0.85951    0.03468   24.79   <2e-16 ***\n",
        "---\n",
        "Signif. codes:  0 \u2018***\u2019 0.001 \u2018**\u2019 0.01 \u2018*\u2019 0.05 \u2018.\u2019 0.1 \u2018 \u2019 1\n",
        "\n",
        "Residual standard error: 0.02049 on 1502 degrees of freedom\n",
        "Multiple R-squared:  0.2903,\tAdjusted R-squared:  0.2898 \n",
        "F-statistic: 614.4 on 1 and 1502 DF,  p-value: < 2.2e-16\n",
        "\n",
        "\n",
        "Call:\n",
        "lm(formula = riskpremium(mydata) ~ riskpremium(SP500))\n",
        "\n",
        "Residuals:\n",
        "      Min        1Q    Median        3Q       Max \n",
        "-0.113716 -0.008453 -0.000334  0.008122  0.140116 \n",
        "\n",
        "Coefficients:\n",
        "                   Estimate Std. Error t value Pr(>|t|)    \n",
        "(Intercept)        0.001027   0.000528   1.945    0.052 .  \n",
        "riskpremium(SP500) 0.858613   0.034648  24.781   <2e-16 ***\n",
        "---\n",
        "Signif. codes:  0 \u2018***\u2019 0.001 \u2018**\u2019 0.01 \u2018*\u2019 0.05 \u2018.\u2019 0.1 \u2018 \u2019 1\n",
        "\n",
        "Residual standard error: 0.02047 on 1501 degrees of freedom\n",
        "Multiple R-squared:  0.2903,\tAdjusted R-squared:  0.2899 \n",
        "F-statistic: 614.1 on 1 and 1501 DF,  p-value: < 2.2e-16\n",
        "\n"
       ]
      }
     ],
     "prompt_number": 57
    },
    {
     "cell_type": "heading",
     "level": 1,
     "metadata": {},
     "source": [
      "Time Series Analysis"
     ]
    },
    {
     "cell_type": "code",
     "collapsed": false,
     "input": [
      "# R Magic\n",
      "%load_ext rmagic"
     ],
     "language": "python",
     "metadata": {},
     "outputs": [],
     "prompt_number": 4
    },
    {
     "cell_type": "code",
     "collapsed": false,
     "input": [
      "%%R\n",
      "# Library \"zoo\"\n",
      "library(\"zoo\")"
     ],
     "language": "python",
     "metadata": {},
     "outputs": [],
     "prompt_number": 17
    },
    {
     "cell_type": "heading",
     "level": 2,
     "metadata": {},
     "source": [
      "Loading Data"
     ]
    },
    {
     "cell_type": "code",
     "collapsed": false,
     "input": [
      "%%R\n",
      "IT = read.zoo(\"../data/cleaned/IT.csv\", sep = \",\", header = TRUE, format = \"%Y-%m-%d\")\n",
      "apple = ts(IT$Apple, f=365)"
     ],
     "language": "python",
     "metadata": {},
     "outputs": [],
     "prompt_number": 18
    },
    {
     "cell_type": "heading",
     "level": 2,
     "metadata": {},
     "source": [
      "Time Plot Function"
     ]
    },
    {
     "cell_type": "code",
     "collapsed": false,
     "input": [
      "%%R\n",
      "timeplotfunction = function(x, color, ylim){\n",
      "    plot(x, type=\"l\", col=color, xlab=\"Year\", ylab=\"Adj. Close Price\", main=\"Time Plot of IT Stock\", ylim=ylim)\n",
      "    }"
     ],
     "language": "python",
     "metadata": {},
     "outputs": [],
     "prompt_number": 19
    },
    {
     "cell_type": "heading",
     "level": 2,
     "metadata": {},
     "source": [
      "IT Industry"
     ]
    },
    {
     "cell_type": "heading",
     "level": 3,
     "metadata": {},
     "source": [
      "IT Stock Time Plot"
     ]
    },
    {
     "cell_type": "code",
     "collapsed": false,
     "input": [
      "%%R\n",
      "# Time Plot\n",
      "jpeg('../visualizations/TS_IT.jpg')\n",
      "timeplotfunction(apple, \"red\", c(0:500))\n",
      "par(new=TRUE)\n",
      "timeplotfunction(IT$Google, \"orange\", c(0:500))\n",
      "par(new=TRUE)\n",
      "timeplotfunction(IT$Amazon, \"yellow\", c(0:500))\n",
      "par(new=TRUE)\n",
      "timeplotfunction(IT$Microsoft, \"green\", c(0:500))\n",
      "par(new=TRUE)\n",
      "timeplotfunction(IT$HP, \"blue\", c(0:500))\n",
      "\n",
      "# Legend\n",
      "legend('topleft', colnames(IT) , lty=1, col=c('red', 'orange', 'yellow',' green', 'blue'), bty='n')\n",
      "dev.off()"
     ],
     "language": "python",
     "metadata": {},
     "outputs": [
      {
       "output_type": "stream",
       "stream": "stdout",
       "text": [
        "Error in plot.window(xlim, ylim, log, ...) : invalid 'ylim' value\n"
       ]
      }
     ],
     "prompt_number": 28
    },
    {
     "cell_type": "code",
     "collapsed": false,
     "input": [
      "from IPython.display import Image\n",
      "Image(filename='../visualizations/TS_IT.jpg')"
     ],
     "language": "python",
     "metadata": {},
     "outputs": [
      {
       "jpeg": "[encoded data removed]",
       "metadata": {},
       "output_type": "pyout",
       "prompt_number": 6,
       "text": [
        "<IPython.core.display.Image at 0xb4bd960c>"
       ]
      }
     ],
     "prompt_number": 6
    },
    {
     "cell_type": "heading",
     "level": 3,
     "metadata": {},
     "source": [
      "Seasonal Analysis"
     ]
    },
    {
     "cell_type": "heading",
     "level": 4,
     "metadata": {},
     "source": [
      "Decomposition"
     ]
    },
    {
     "cell_type": "code",
     "collapsed": false,
     "input": [
      "%%R\n",
      "# Seasonal Decomposition\n",
      "jpeg('../visualizations/Apple_Seasonal_Decomp.jpg')\n",
      "decomp_aapl = stl(ts(IT$Apple, frequency=365), s.window=\"periodic\", robust=TRUE)\n",
      "plot(decomp_aapl, col='red', main=\"Apple Seasonal Decomposition\")\n",
      "dev.off()"
     ],
     "language": "python",
     "metadata": {},
     "outputs": [],
     "prompt_number": 7
    },
    {
     "cell_type": "code",
     "collapsed": false,
     "input": [
      "from IPython.display import Image\n",
      "Image(filename='../visualizations/Apple_Seasonal_Decomp.jpg')"
     ],
     "language": "python",
     "metadata": {},
     "outputs": [
      {
       "jpeg": "[encoded data removed]",
       "metadata": {},
       "output_type": "pyout",
       "prompt_number": 8,
       "text": [
        "<IPython.core.display.Image at 0xb4bd95ac>"
       ]
      }
     ],
     "prompt_number": 8
    },
    {
     "cell_type": "markdown",
     "metadata": {},
     "source": [
      "http://leve.rs/blog/how-to-correctly-forecast-seasonal-marketing-trends-with-stl/"
     ]
    },
    {
     "cell_type": "heading",
     "level": 4,
     "metadata": {},
     "source": [
      "Seasonal Differencing"
     ]
    },
    {
     "cell_type": "code",
     "collapsed": false,
     "input": [
      "%%R\n",
      "jpeg('../visualizations/Apple_Seasonal_Differencing.jpg')\n",
      "# Seasonal Differencing\n",
      "appleseasonaldiff = diff(IT$Apple, lag=365)\n",
      "plot(appleseasonaldiff, type=\"l\", col=\"red\", xlab=\"Year\", ylab=\"Adj. Close Price\", main=\"Apple Seasonal Differencing\")\n",
      "dev.off()\n",
      "\n",
      "jpeg('../visualizations/Apple_Seasonal_Trend_Differencing.jpg')\n",
      "# Seasonal & 1st Trend Differencing\n",
      "appletrenddiff1 = diff(appleseasonaldiff)\n",
      "plot(appletrenddiff1, type=\"l\", col=\"red\", xlab=\"Year\", ylab=\"Adj. Close Price\", main=\"Apple Seasonal & 1st Differencing\")\n",
      "dev.off()"
     ],
     "language": "python",
     "metadata": {},
     "outputs": [],
     "prompt_number": 9
    },
    {
     "cell_type": "code",
     "collapsed": false,
     "input": [
      "from IPython.display import Image\n",
      "Image(filename='../visualizations/Apple_Seasonal_Differencing.jpg')"
     ],
     "language": "python",
     "metadata": {},
     "outputs": [
      {
       "jpeg": "[encoded data removed]",
       "metadata": {},
       "output_type": "pyout",
       "prompt_number": 10,
       "text": [
        "<IPython.core.display.Image at 0xb094b96c>"
       ]
      }
     ],
     "prompt_number": 10
    },
    {
     "cell_type": "code",
     "collapsed": false,
     "input": [
      "from IPython.display import Image\n",
      "Image(filename='../visualizations/Apple_Seasonal_Trend_Differencing.jpg')"
     ],
     "language": "python",
     "metadata": {},
     "outputs": [
      {
       "jpeg": "[encoded data removed]",
       "metadata": {},
       "output_type": "pyout",
       "prompt_number": 11,
       "text": [
        "<IPython.core.display.Image at 0xb094b82c>"
       ]
      }
     ],
     "prompt_number": 11
    },
    {
     "cell_type": "heading",
     "level": 1,
     "metadata": {},
     "source": [
      "Forecasting"
     ]
    },
    {
     "cell_type": "code",
     "collapsed": false,
     "input": [
      "%%R\n",
      "#install.packages(\"forecast\")\n",
      "library(\"forecast\")"
     ],
     "language": "python",
     "metadata": {},
     "outputs": [
      {
       "metadata": {},
       "output_type": "display_data",
       "text": [
        "Loading required package: zoo\n",
        "\n",
        "Attaching package: \u2018zoo\u2019\n",
        "\n",
        "The following objects are masked from \u2018package:base\u2019:\n",
        "\n",
        "    as.Date, as.Date.numeric\n",
        "\n",
        "Loading required package: timeDate\n",
        "This is forecast 5.3 \n",
        "\n"
       ]
      }
     ],
     "prompt_number": 59
    },
    {
     "cell_type": "code",
     "collapsed": false,
     "input": [
      "%%R\n",
      "library(zoo)\n",
      "waapl = read.csv(\"../data/cleaned/waapl.csv\", sep = \",\", header = TRUE)#, format = \"%Y-%m-%d\")\n",
      "apple = ts(waapl, f=52.177457)\n",
      "\n",
      "waapl = read.csv(\"../data/cleaned/wgoog.csv\", sep = \",\", header = TRUE)#, format = \"%Y-%m-%d\")\n",
      "apple = ts(waapl, f=52.177457)\n",
      "\n",
      "waapl = read.csv(\"../data/cleaned/waapl.csv\", sep = \",\", header = TRUE)#, format = \"%Y-%m-%d\")\n",
      "apple = ts(waapl, f=52.177457)\n",
      "\n",
      "waapl = read.csv(\"../data/cleaned/waapl.csv\", sep = \",\", header = TRUE)#, format = \"%Y-%m-%d\")\n",
      "apple = ts(waapl, f=52.177457)\n",
      "\n",
      "waapl = read.csv(\"../data/cleaned/waapl.csv\", sep = \",\", header = TRUE)#, format = \"%Y-%m-%d\")\n",
      "apple = ts(waapl, f=52.177457)\n",
      "\n",
      "waapl = read.csv(\"../data/cleaned/waapl.csv\", sep = \",\", header = TRUE)#, format = \"%Y-%m-%d\")\n",
      "apple = ts(waapl, f=52.177457)\n",
      "print(apple)"
     ],
     "language": "python",
     "metadata": {},
     "outputs": [
      {
       "metadata": {},
       "output_type": "display_data",
       "text": [
        "Time Series:\n",
        "Start = 1 \n",
        "End = 6.99875919594932 \n",
        "Frequency = 52.177457 \n",
        "         Week Adj.Close\n",
        "1.000000    1 1360.0240\n",
        "1.019165    2 1357.1900\n",
        "1.038331    3 1356.6700\n",
        "1.057496    4 1386.1400\n",
        "1.076661    5 1399.2280\n",
        "1.095827    6 1400.8560\n",
        "1.114992    7 1412.8400\n",
        "1.134158    8 1400.2040\n",
        "1.153323    9 1393.7075\n",
        "1.172488   10 1381.0500\n",
        "1.191654   11 1351.1180\n",
        "1.210819   12 1341.9280\n",
        "1.229984   13 1303.1580\n",
        "1.249150   14 1272.3325\n",
        "1.268315   15 1252.7160\n",
        "1.287480   16 1241.9140\n",
        "1.306646   17 1265.8980\n",
        "1.325811   18 1261.9040\n",
        "1.344977   19 1277.0940\n",
        "1.364142   20 1294.3740\n",
        "1.383307   21 1277.9500\n",
        "1.402473   22 1280.7040\n",
        "1.421638   23 1257.9250\n",
        "1.440803   24 1245.0180\n",
        "1.459969   25 1204.8560\n",
        "1.479134   26 1200.7260\n",
        "1.498299   27 1129.4700\n",
        "1.517465   28  969.4400\n",
        "1.536630   29  959.2360\n",
        "1.555796   30  924.4220\n",
        "1.574961   31  928.4720\n",
        "1.594126   32  952.1380\n",
        "1.613292   33  891.0080\n",
        "1.632457   34  813.7840\n",
        "1.651622   35  873.2800\n",
        "1.670788   36  851.4100\n",
        "1.689953   37  890.1860\n",
        "1.709118   38  891.8660\n",
        "1.728284   39  868.9350\n",
        "1.747449   40  898.7775\n",
        "1.766615   41  913.7760\n",
        "1.785780   42  855.7060\n",
        "1.804945   43  826.2275\n",
        "1.824111   44  845.4780\n",
        "1.843276   45  842.1260\n",
        "1.862441   46  838.5640\n",
        "1.881607   47  781.6450\n",
        "1.900772   48  753.8580\n",
        "1.919938   49  695.1900\n",
        "1.939103   50  724.9560\n",
        "1.958268   51  775.7880\n",
        "1.977434   52  818.3440\n",
        "1.996599   53  814.6720\n",
        "2.015764   54  833.1875\n",
        "2.034930   55  857.4380\n",
        "2.054095   56  848.8340\n",
        "2.073260   57  867.3280\n",
        "2.092426   58  913.4380\n",
        "2.111591   59  895.4920\n",
        "2.130757   60  899.3280\n",
        "2.149922   61  907.3400\n",
        "2.169087   62  940.3840\n",
        "2.188253   63  942.3640\n",
        "2.207418   64  917.2000\n",
        "2.226583   65  905.6480\n",
        "2.245749   66  916.5750\n",
        "2.264914   67  884.2240\n",
        "2.284079   68  924.1380\n",
        "2.303245   69  963.0660\n",
        "2.322410   70  982.2360\n",
        "2.341576   71 1003.7120\n",
        "2.360741   72 1004.8160\n",
        "2.379906   73  999.8720\n",
        "2.399072   74 1028.3200\n",
        "2.418237   75 1006.6100\n",
        "2.437402   76 1036.4075\n",
        "2.456568   77 1060.9040\n",
        "2.475733   78 1058.4700\n",
        "2.494898   79 1047.1460\n",
        "2.514064   80 1057.9460\n",
        "2.533229   81 1085.1280\n",
        "2.552395   82 1088.5760\n",
        "2.571560   83 1055.0580\n",
        "2.590725   84 1054.1440\n",
        "2.609891   85 1093.0640\n",
        "2.629056   86 1103.1400\n",
        "2.648221   87 1103.5025\n",
        "2.667387   88 1103.9260\n",
        "2.686552   89 1099.9800\n",
        "2.705717   90 1105.9540\n",
        "2.724883   91 1119.7850\n",
        "2.744048   92 1123.8750\n",
        "2.763214   93 1138.6640\n",
        "2.782379   94 1142.6740\n",
        "2.801544   95 1124.1275\n",
        "2.820710   96 1088.9700\n",
        "2.839875   97 1083.8180\n",
        "2.859040   98 1069.8740\n",
        "2.878206   99 1102.5750\n",
        "2.897371  100 1103.0560\n",
        "2.916536  101 1122.8960\n",
        "2.935702  102 1144.9580\n",
        "2.954867  103 1160.3820\n",
        "2.974033  104 1168.0040\n",
        "2.993198  105 1173.5050\n",
        "3.012363  106 1188.0280\n",
        "3.031529  107 1201.6460\n",
        "3.050694  108 1207.3160\n",
        "3.069859  109 1196.1180\n",
        "3.089025  110 1156.1520\n",
        "3.108190  111 1156.0620\n",
        "3.127355  112 1106.4140\n",
        "3.146521  113 1081.6200\n",
        "3.165686  114 1084.2000\n",
        "3.184852  115 1069.3200\n",
        "3.204017  116 1110.6040\n",
        "3.223182  117 1090.2000\n",
        "3.242348  118 1039.2940\n",
        "3.261513  119 1059.1350\n",
        "3.280678  120 1086.1240\n",
        "3.299844  121 1084.1300\n",
        "3.319009  122 1107.6220\n",
        "3.338175  123 1124.2020\n",
        "3.357340  124 1100.2360\n",
        "3.376505  125 1082.6800\n",
        "3.395671  126 1057.2740\n",
        "3.414836  127 1074.6300\n",
        "3.434001  128 1101.1100\n",
        "3.453167  129 1123.6640\n",
        "3.472332  130 1138.0540\n",
        "3.491497  131 1144.4060\n",
        "3.510663  132 1156.1920\n",
        "3.529828  133 1172.6380\n",
        "3.548994  134 1178.4240\n",
        "3.568159  135 1184.1500\n",
        "3.587324  136 1204.5640\n",
        "3.606490  137 1213.6220\n",
        "3.625655  138 1190.2200\n",
        "3.644820  139 1191.5800\n",
        "3.663986  140 1204.1240\n",
        "3.683151  141 1229.7100\n",
        "3.702316  142 1240.8120\n",
        "3.721482  143 1254.3225\n",
        "3.740647  144 1258.2700\n",
        "3.759813  145 1272.7960\n",
        "3.778978  146 1281.4380\n",
        "3.798143  147 1285.1375\n",
        "3.817309  148 1290.9060\n",
        "3.836474  149 1303.1420\n",
        "3.855639  150 1323.1040\n",
        "3.874805  151 1336.0180\n",
        "3.893970  152 1312.2050\n",
        "3.913135  153 1318.8220\n",
        "3.932301  154 1310.2720\n",
        "3.951466  155 1277.6140\n",
        "3.970632  156 1302.6300\n",
        "3.989797  157 1323.2260\n",
        "4.008962  158 1332.5440\n",
        "4.028128  159 1317.4460\n",
        "4.047293  160 1321.3750\n",
        "4.066458  161 1352.4480\n",
        "4.085624  162 1348.0920\n",
        "4.104789  163 1346.3900\n",
        "4.123954  164 1335.2000\n",
        "4.143120  165 1322.1820\n",
        "4.162285  166 1318.2125\n",
        "4.181451  167 1282.1300\n",
        "4.200616  168 1272.8520\n",
        "4.219781  169 1282.5940\n",
        "4.238947  170 1308.8980\n",
        "4.258112  171 1343.5300\n",
        "4.277277  172 1315.1720\n",
        "4.296443  173 1329.3660\n",
        "4.315608  174 1313.4420\n",
        "4.334773  175 1240.1560\n",
        "4.353939  176 1152.8400\n",
        "4.373104  177 1171.0640\n",
        "4.392270  178 1159.9680\n",
        "4.411435  179 1204.0560\n",
        "4.430600  180 1175.9975\n",
        "4.449766  181 1189.7880\n",
        "4.468931  182 1167.7860\n",
        "4.488096  183 1156.2420\n",
        "4.507262  184 1137.5280\n",
        "4.526427  185 1205.1840\n",
        "4.545592  186 1217.9520\n",
        "4.564758  187 1258.9840\n",
        "4.583923  188 1244.7720\n",
        "4.603089  189 1253.9380\n",
        "4.622254  190 1235.6560\n",
        "4.641419  191 1175.3700\n",
        "4.660585  192 1224.7120\n",
        "4.679750  193 1253.2200\n",
        "4.698915  194 1221.8860\n",
        "4.718081  195 1241.9400\n",
        "4.737246  196 1258.9225\n",
        "4.756412  197 1278.3075\n",
        "4.775577  198 1289.9700\n",
        "4.794742  199 1307.8975\n",
        "4.813908  200 1318.2940\n",
        "4.833073  201 1323.9900\n",
        "4.852238  202 1347.1860\n",
        "4.871404  203 1352.9540\n",
        "4.890569  204 1362.2675\n",
        "4.909734  205 1369.8340\n",
        "4.928900  206 1359.4200\n",
        "4.948065  207 1393.6180\n",
        "4.967231  208 1401.6100\n",
        "4.986396  209 1409.2640\n",
        "5.005561  210 1407.3650\n",
        "5.024727  211 1373.4660\n",
        "5.043892  212 1380.1880\n",
        "5.063057  213 1386.5880\n",
        "5.082223  214 1393.3420\n",
        "5.101388  215 1359.8520\n",
        "5.120553  216 1318.7780\n",
        "5.139719  217 1317.9960\n",
        "5.158884  218 1308.5275\n",
        "5.178050  219 1303.8920\n",
        "5.197215  220 1323.9860\n",
        "5.216380  221 1343.7960\n",
        "5.235546  222 1331.3520\n",
        "5.254711  223 1365.4475\n",
        "5.273876  224 1345.3840\n",
        "5.293042  225 1365.8520\n",
        "5.312207  226 1354.5420\n",
        "5.331372  227 1379.1860\n",
        "5.350538  228 1401.2940\n",
        "5.369703  229 1409.4480\n",
        "5.388869  230 1411.6000\n",
        "5.408034  231 1407.2580\n",
        "5.427199  232 1419.6050\n",
        "5.446365  233 1444.9920\n",
        "5.465530  234 1460.3940\n",
        "5.484695  235 1443.9240\n",
        "5.503861  236 1452.7120\n",
        "5.523026  237 1438.2700\n",
        "5.542191  238 1449.2980\n",
        "5.561357  239 1416.1180\n",
        "5.580522  240 1417.9833\n",
        "5.599688  241 1399.5080\n",
        "5.618853  242 1364.6520\n",
        "5.638018  243 1393.7200\n",
        "5.657184  244 1409.4580\n",
        "5.676349  245 1411.5600\n",
        "5.695514  246 1421.5800\n",
        "5.714680  247 1437.3600\n",
        "5.733845  248 1416.7550\n",
        "5.753010  249 1453.6125\n",
        "5.772176  250 1464.8460\n",
        "5.791341  251 1476.5140\n",
        "5.810507  252 1496.2875\n",
        "5.829672  253 1504.2520\n",
        "5.848837  254 1509.2880\n",
        "5.868003  255 1519.5880\n",
        "5.887168  256 1515.2275\n",
        "5.906333  257 1506.7320\n",
        "5.925499  258 1540.3780\n",
        "5.944664  259 1557.4300\n",
        "5.963829  260 1552.3680\n",
        "5.982995  261 1561.8750\n",
        "6.002160  262 1559.8740\n",
        "6.021326  263 1580.3260\n",
        "6.040491  264 1555.1600\n",
        "6.059656  265 1577.4940\n",
        "6.078822  266 1597.1780\n",
        "6.097987  267 1627.3040\n",
        "6.117152  268 1652.1660\n",
        "6.136318  269 1658.1820\n",
        "6.155483  270 1648.3925\n",
        "6.174649  271 1629.3280\n",
        "6.193814  272 1628.9100\n",
        "6.212979  273 1620.0800\n",
        "6.232145  274 1596.7720\n",
        "6.251310  275 1619.0850\n",
        "6.270475  276 1660.1220\n",
        "6.289641  277 1684.2260\n",
        "6.308806  278 1691.1520\n",
        "6.327971  279 1694.7120\n",
        "6.347137  280 1696.8640\n",
        "6.366302  281 1677.2340\n",
        "6.385468  282 1652.3340\n",
        "6.404633  283 1638.6720\n",
        "6.423798  284 1650.7750\n",
        "6.442964  285 1683.2480\n",
        "6.462129  286 1712.0260\n",
        "6.481294  287 1696.4900\n",
        "6.500460  288 1687.9160\n",
        "6.519625  289 1676.7460\n",
        "6.538790  290 1721.4780\n",
        "6.557956  291 1751.5100\n",
        "6.577121  292 1763.1100\n",
        "6.596287  293 1763.8300\n",
        "6.615452  294 1782.0760\n",
        "6.634617  295 1792.2760\n",
        "6.653783  296 1804.5675\n",
        "6.672948  297 1795.7960\n",
        "6.692113  298 1788.8060\n",
        "6.711279  299 1801.2220\n",
        "6.730444  300 1836.1825\n",
        "6.749609  301 1838.1950\n",
        "6.768775  302 1836.5280\n",
        "6.787940  303 1838.2100\n",
        "6.807106  304 1826.8525\n",
        "6.826271  305 1785.0080\n",
        "6.845436  306 1763.8360\n",
        "6.864602  307 1821.4620\n",
        "6.883767  308 1836.3850\n",
        "6.902932  309 1850.3260\n",
        "6.922098  310 1869.7040\n",
        "6.941263  311 1860.0940\n",
        "6.960428  312 1866.0760\n",
        "6.979594  313 1856.4560\n",
        "6.998759  314 1872.3400\n"
       ]
      }
     ],
     "prompt_number": 73
    },
    {
     "cell_type": "code",
     "collapsed": false,
     "input": [
      "%%R\n",
      "# Time Series Display\n",
      "jpeg('../visualizations/Apple_TS_Display.jpg')\n",
      "tsdisplay(appletrenddiff1, main=\"Trend Time Series\")\n",
      "dev.off()"
     ],
     "language": "python",
     "metadata": {},
     "outputs": [],
     "prompt_number": 13
    },
    {
     "cell_type": "code",
     "collapsed": false,
     "input": [
      "from IPython.display import Image\n",
      "Image(filename='../visualizations/Apple_TS_Display.jpg')"
     ],
     "language": "python",
     "metadata": {},
     "outputs": [
      {
       "jpeg": "[encoded data removed]",
       "metadata": {},
       "output_type": "pyout",
       "prompt_number": 14,
       "text": [
        "<IPython.core.display.Image at 0xb4bd948c>"
       ]
      }
     ],
     "prompt_number": 14
    },
    {
     "cell_type": "heading",
     "level": 2,
     "metadata": {},
     "source": [
      "Finding Auto ARIMA"
     ]
    },
    {
     "cell_type": "code",
     "collapsed": false,
     "input": [
      "%%R\n",
      "# Auto\n",
      "print(auto.arima(IT$Apple))"
     ],
     "language": "python",
     "metadata": {},
     "outputs": [
      {
       "metadata": {},
       "output_type": "display_data",
       "text": [
        "Series: IT$Apple \n",
        "ARIMA(3,1,0) with drift         \n",
        "\n",
        "Coefficients:\n",
        "          ar1      ar2     ar3   drift\n",
        "      -0.0518  -0.0924  0.0622  0.1820\n",
        "s.e.   0.0324   0.0448  0.0480  0.1343\n",
        "\n",
        "sigma^2 estimated as 46.25:  log likelihood=-3931.99\n",
        "AIC=7873.97   AICc=7874   BIC=7902.43\n"
       ]
      }
     ],
     "prompt_number": 15
    },
    {
     "cell_type": "heading",
     "level": 2,
     "metadata": {},
     "source": [
      "Function for Fitting Seasonal with ARIMA(3,1,0)"
     ]
    },
    {
     "cell_type": "code",
     "collapsed": false,
     "input": [
      "%%R\n",
      "# Fitting Seasonal with ARIMA(3,1,0)\n",
      "total_fit_apple = function(x){\n",
      "  arima(IT$Apple, order=c(3,1,0), seasonal=list(order=x, period=365))\n",
      "}"
     ],
     "language": "python",
     "metadata": {},
     "outputs": [],
     "prompt_number": 24
    },
    {
     "cell_type": "heading",
     "level": 2,
     "metadata": {},
     "source": [
      "Fitting Possible Seasonal"
     ]
    },
    {
     "cell_type": "code",
     "collapsed": false,
     "input": [
      "%%R\n",
      "possible = list(c(0,1,0), c(0,1,1), c(0,1,2),\n",
      "                  c(1,1,0), c(1,1,1), c(1,1,2),\n",
      "                  c(2,1,0), c(2,1,1), c(2,1,2))\n",
      "\n",
      "#print(total_fit_apple(possible[[1]]))\n",
      "#print(total_fit_apple(possible[[2]]))\n",
      "#print(total_fit_apple(possible[[3]]))\n",
      "#print(total_fit_apple(possible[[4]]))\n",
      "#print(total_fit_apple(possible[[5]]))\n",
      "#print(total_fit_apple(possible[[6]]))\n",
      "#print(total_fit_apple(possible[[7]]))\n",
      "#print(total_fit_apple(possible[[8]]))\n",
      "#print(total_fit_apple(possible[[9]]))"
     ],
     "language": "python",
     "metadata": {},
     "outputs": [
      {
       "metadata": {},
       "output_type": "display_data",
       "text": [
        "Series: IT$Apple \n",
        "ARIMA(3,1,0)(0,1,0)[365]                    \n",
        "\n",
        "Coefficients:\n",
        "          ar1      ar2     ar3\n",
        "      -0.0834  -0.1861  0.1152\n",
        "s.e.   0.0355   0.0454  0.0527\n",
        "\n",
        "sigma^2 estimated as 71.87:  log likelihood=-4315.37\n",
        "AIC=8638.73   AICc=8638.75   BIC=8660.77\n"
       ]
      }
     ],
     "prompt_number": 34
    },
    {
     "cell_type": "heading",
     "level": 2,
     "metadata": {},
     "source": [
      "AIGs - Comparing"
     ]
    },
    {
     "cell_type": "code",
     "collapsed": false,
     "input": [
      "%%R\n",
      "apple_possible_seasonal = c(8638.73, 9895.96, 9893.02,\n",
      "                            \"-\", \"-\", \"-\",\n",
      "                            \"-\", \"-\", \"-\")"
     ],
     "language": "python",
     "metadata": {},
     "outputs": []
    },
    {
     "cell_type": "heading",
     "level": 2,
     "metadata": {},
     "source": [
      "Apple Forecasting"
     ]
    },
    {
     "cell_type": "code",
     "collapsed": false,
     "input": [
      "apple_fit <- arima(IT$Apple, order=c(3,1,0), seasonal=list(order=c(0,1,2), period=365))"
     ],
     "language": "python",
     "metadata": {},
     "outputs": []
    },
    {
     "cell_type": "code",
     "collapsed": false,
     "input": [
      "%%R\n",
      "# Forecasts Time Plot\n",
      "appleforecast = forecast.Arima(fit1, h=365)\n",
      "plot(appleforecast, xlab=\"Index\", ylab=\"Data\")"
     ],
     "language": "python",
     "metadata": {},
     "outputs": [
      {
       "output_type": "stream",
       "stream": "stdout",
       "text": [
        "Error in match(el, set, 0L) : object 'fit1' not found\n"
       ]
      }
     ],
     "prompt_number": 23
    },
    {
     "cell_type": "code",
     "collapsed": false,
     "input": [
      " = c(1944.93, 1844.93, 1845.74,\n",
      "            1871.58, 1846.11, 1841.94,\n",
      "            \"-\", \"-\", \"-\")"
     ],
     "language": "python",
     "metadata": {},
     "outputs": [
      {
       "ename": "SyntaxError",
       "evalue": "invalid syntax (<ipython-input-74-5ed599113d55>, line 1)",
       "output_type": "pyerr",
       "traceback": [
        "\u001b[1;36m  File \u001b[1;32m\"<ipython-input-74-5ed599113d55>\"\u001b[1;36m, line \u001b[1;32m1\u001b[0m\n\u001b[1;33m    = c(1944.93, 1844.93, 1845.74,\u001b[0m\n\u001b[1;37m    ^\u001b[0m\n\u001b[1;31mSyntaxError\u001b[0m\u001b[1;31m:\u001b[0m invalid syntax\n"
       ]
      }
     ],
     "prompt_number": 74
    },
    {
     "cell_type": "code",
     "collapsed": false,
     "input": [
      "%%R\n",
      "# Time Series Display\n",
      "x=tsdisplay(appleseasonaldiff, main=\"Seasonal Time Series\")\n",
      "print(x)"
     ],
     "language": "python",
     "metadata": {},
     "outputs": []
    },
    {
     "cell_type": "code",
     "collapsed": false,
     "input": [
      "%%R\n",
      "#install.packages(\"ggplot2\")\n",
      "library(ggplot2)"
     ],
     "language": "python",
     "metadata": {},
     "outputs": []
    },
    {
     "cell_type": "code",
     "collapsed": false,
     "input": [
      "%%R\n",
      "print(qplot(data=IT,geom='line'))"
     ],
     "language": "python",
     "metadata": {},
     "outputs": []
    },
    {
     "cell_type": "code",
     "collapsed": false,
     "input": [
      "%%R\n",
      "# Double Check Seasonal\n",
      "install.packages(\"forecast\")\n",
      "library(\"forecast\")"
     ],
     "language": "python",
     "metadata": {},
     "outputs": []
    },
    {
     "cell_type": "code",
     "collapsed": false,
     "input": [
      "%%R\n",
      "# Time Plot\n",
      "plot(IT$Google, type=\"l\", col=\"red\", xlab=\"\", ylab=\"\", main=\"\", ylim=c(0,1000))\n"
     ],
     "language": "python",
     "metadata": {},
     "outputs": []
    }
   ],
   "metadata": {}
  }
 ]
}